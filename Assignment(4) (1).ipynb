{
 "cells": [
  {
   "cell_type": "markdown",
   "id": "e4c3b680-8820-4221-bab1-6684211c6375",
   "metadata": {},
   "source": [
    "# string assignmrnt"
   ]
  },
  {
   "cell_type": "raw",
   "id": "1294e2ad-4de1-4e29-8e52-1bc1cfa2d9e3",
   "metadata": {},
   "source": [
    "1). Write a program that accepts a string from user. Your program should count and display number of vowels in that string.\n"
   ]
  },
  {
   "cell_type": "code",
   "execution_count": 1,
   "id": "e60921a2-a11a-491a-aa20-545e5422d0b1",
   "metadata": {},
   "outputs": [
    {
     "name": "stdin",
     "output_type": "stream",
     "text": [
      "enter your vowel k\n"
     ]
    },
    {
     "name": "stdout",
     "output_type": "stream",
     "text": [
      "k not a vowel\n"
     ]
    }
   ],
   "source": [
    "vowel=input('enter your vowel')\n",
    "if vowel in ['a','e','i','u','o']:\n",
    "    print(f'{vowel} is a vowel')\n",
    "else:\n",
    "    print((f'{vowel} not a vowel'))"
   ]
  },
  {
   "cell_type": "raw",
   "id": "02a0ac31-42fc-4d87-b5a7-ec56215c30d4",
   "metadata": {},
   "source": [
    "2. Write a program that reads a string from keyboard and display:\n",
    "* The number of uppercase letters in the string\n",
    "* The number of lowercase letters in the string\n",
    "* The number of digits in the string\n",
    "* The number of whitespace characters in the string"
   ]
  },
  {
   "cell_type": "code",
   "execution_count": 11,
   "id": "8b75aff5-bb3c-4618-a668-8fe5fd64882d",
   "metadata": {},
   "outputs": [
    {
     "name": "stdin",
     "output_type": "stream",
     "text": [
      "enter your name 222\n"
     ]
    },
    {
     "name": "stdout",
     "output_type": "stream",
     "text": [
      "222is a integer\n"
     ]
    }
   ],
   "source": [
    "name=input('enter your name')\n",
    "if name.isupper():\n",
    "    print(f'{name}is upper case')\n",
    "elif name.islower():\n",
    "    print(f'{name} is lower case')\n",
    "elif name.isspace():\n",
    "    print(f'{name} is space')\n",
    "else:\n",
    "    print(f'{name}is a integer')\n",
    "    "
   ]
  },
  {
   "cell_type": "raw",
   "id": "c83720f8-caa9-4e1c-91a1-051adc91c1a5",
   "metadata": {},
   "source": [
    "3. Write a Python program that accepts a string from user. Your program should create and display anew string where the first and last characters have been exchanged.\n",
    "For example if the user enters the string 'HELLO' then new string would be 'OELLH'"
   ]
  },
  {
   "cell_type": "code",
   "execution_count": 65,
   "id": "350d8773-00a5-4657-8cae-88708e1fccae",
   "metadata": {},
   "outputs": [
    {
     "name": "stdin",
     "output_type": "stream",
     "text": [
      "enter your string hello\n"
     ]
    },
    {
     "name": "stdout",
     "output_type": "stream",
     "text": [
      "hello\n"
     ]
    },
    {
     "data": {
      "text/plain": [
       "'oellh'"
      ]
     },
     "execution_count": 65,
     "metadata": {},
     "output_type": "execute_result"
    }
   ],
   "source": [
    "name=input('enter your string')  # [start:stop:step]\n",
    "print(name)\n",
    "name[-1:]+name[1:-1]+name[:1]\n",
    "\n",
    "\n",
    "\n"
   ]
  },
  {
   "cell_type": "raw",
   "id": "1fd9834f-828e-4970-9a62-87b9e52f5d81",
   "metadata": {},
   "source": [
    "4. Write a Python program that accepts a string from user. Your program should create a new string in reverse of first string and display it.For example if the user enters the string 'EXAM' then new string would be 'MAXE'"
   ]
  },
  {
   "cell_type": "code",
   "execution_count": 77,
   "id": "12d291f1-7f3d-425a-94c8-7ba8be22526d",
   "metadata": {},
   "outputs": [
    {
     "name": "stdin",
     "output_type": "stream",
     "text": [
      "enter your string irfan\n"
     ]
    },
    {
     "data": {
      "text/plain": [
       "'nafri'"
      ]
     },
     "execution_count": 77,
     "metadata": {},
     "output_type": "execute_result"
    }
   ],
   "source": [
    "name=input('enter your string')\n",
    "name[::-1]"
   ]
  },
  {
   "cell_type": "raw",
   "id": "4ee817ca-1144-47f7-a9fa-d0447489b1b3",
   "metadata": {},
   "source": [
    "5. Write a Python program that accepts a string from user. Your program should create a new string byshifting one position to left.\n",
    "For example if the user enters the string 'examination 2021' then new string would be 'xamination 2021e'"
   ]
  },
  {
   "cell_type": "code",
   "execution_count": 83,
   "id": "360b7b9c-34bf-484e-9786-ebbed4ac3b89",
   "metadata": {},
   "outputs": [
    {
     "name": "stdin",
     "output_type": "stream",
     "text": [
      "enter your string examination2021\n"
     ]
    },
    {
     "data": {
      "text/plain": [
       "'xamination2021e'"
      ]
     },
     "execution_count": 83,
     "metadata": {},
     "output_type": "execute_result"
    }
   ],
   "source": [
    "name=input('enter your string')\n",
    "name[1]+name[2::]+name[0]"
   ]
  },
  {
   "cell_type": "raw",
   "id": "ad3cbd38-d2de-41da-aa43-0c02f03d5074",
   "metadata": {},
   "source": [
    "6. Write a program that asks the user to input his name and print its initials. Assuming that the user always types first name, middle name and last name and does not include any unnecessary spaces.\n",
    "For example, if the user enters Ajay Kumar Garg the program should display A. K. G.Note:Don't use split() method"
   ]
  },
  {
   "cell_type": "code",
   "execution_count": 107,
   "id": "c089c455-e1dc-45e5-8100-85674dd3b12f",
   "metadata": {},
   "outputs": [
    {
     "name": "stdin",
     "output_type": "stream",
     "text": [
      "enter your name AjarKumarGarg\n"
     ]
    },
    {
     "data": {
      "text/plain": [
       "'AKG'"
      ]
     },
     "execution_count": 107,
     "metadata": {},
     "output_type": "execute_result"
    }
   ],
   "source": [
    "name=input('enter your name')\n",
    "name[0]+name[4]+name[9]"
   ]
  },
  {
   "cell_type": "raw",
   "id": "7086d2a7-4303-4e72-8006-076c2504b04d",
   "metadata": {},
   "source": [
    "7. A palindrome is a string that reads the same backward as forward. For example, the words dad,madam and radar are all palindromes. Write a programs that determines whether the string is a\n",
    "palindrome."
   ]
  },
  {
   "cell_type": "code",
   "execution_count": 13,
   "id": "cae5e39c-4e94-4906-872b-b142f1b3ede0",
   "metadata": {},
   "outputs": [
    {
     "name": "stdin",
     "output_type": "stream",
     "text": [
      "enter your palindrome name madam\n"
     ]
    },
    {
     "name": "stdout",
     "output_type": "stream",
     "text": [
      "madam\n",
      "madam is a palindrome number\n"
     ]
    }
   ],
   "source": [
    "palindrome=input('enter your palindrome name')\n",
    "print(palindrome)\n",
    "print(f'{palindrome[::-1]} is a palindrome number')"
   ]
  },
  {
   "cell_type": "raw",
   "id": "eb5e5d2e-ead0-4398-b5ee-61e7660c91b8",
   "metadata": {},
   "source": [
    "8. Write a program that display following output:\n",
    "SHIFT\n",
    "HIFTS\n",
    "IFTSH\n",
    "FTSHI\n",
    "TSHIF\n",
    "SHIFT"
   ]
  },
  {
   "cell_type": "code",
   "execution_count": 62,
   "id": "60ab38b8-fd8b-4dfb-8f7b-9c22749c67de",
   "metadata": {},
   "outputs": [
    {
     "name": "stdout",
     "output_type": "stream",
     "text": [
      "shift\n",
      "hifts\n",
      "iftsh\n",
      "ftshi\n",
      "tshif\n",
      "shift\n"
     ]
    }
   ],
   "source": [
    "word='shift'   ## [start:stop:step]\n",
    "for i in range(len(word)): # i serve as indexing i=0,i=1,i=2 fivetime\n",
    "    rotated_word=word[i:]+word[:i]\n",
    "    print(rotated_word)\n",
    "print(word)"
   ]
  },
  {
   "cell_type": "raw",
   "id": "d2bd8a85-aa47-4144-ab61-266c9e39dcf7",
   "metadata": {},
   "source": [
    "9. Write a program in python that accepts a string to setup a passwords. Your entered password must meet the following requirements:\n",
    "\n",
    "The password must be at least eight characters long.\n",
    "It must contain at least one uppercase letter.\n",
    "It must contain at least one lowercase letter.\n",
    "It must contain at least one numeric digit.\n",
    "Your program should should perform this validation."
   ]
  },
  {
   "cell_type": "code",
   "execution_count": 81,
   "id": "c273cb50-1066-4889-b0df-6b83e3ed7905",
   "metadata": {},
   "outputs": [
    {
     "name": "stdin",
     "output_type": "stream",
     "text": [
      "enter your password 12Irfanhussain\n"
     ]
    },
    {
     "name": "stdout",
     "output_type": "stream",
     "text": [
      "password is valid\n"
     ]
    }
   ],
   "source": [
    "password=input('enter your password')\n",
    "if len(password)<8:\n",
    "    print('password must contain atleaast 8 characthers')\n",
    "elif not any(char.isupper() for char in password):\n",
    "    print(\"password must contain atleast one upper letter\")\n",
    "elif not any(char.islower() for char in password):\n",
    "    print('password must contain atleast one lower case')\n",
    "elif not any(char.isdigit() for char in password):\n",
    "    print('password must contain atleast one numeric digit')\n",
    "else:\n",
    "    print('password is valid')"
   ]
  },
  {
   "cell_type": "markdown",
   "id": "20116084-5d3b-4584-bff9-e6c6573c0b29",
   "metadata": {},
   "source": [
    "# list assignment"
   ]
  },
  {
   "cell_type": "raw",
   "id": "79824188-0078-4273-9dbd-fc8f576a81f6",
   "metadata": {},
   "source": [
    "1. Write a Python program to print the numbers from 1 to 10 using a for loop."
   ]
  },
  {
   "cell_type": "code",
   "execution_count": 91,
   "id": "20e2e6c7-37f6-4f21-97ed-de037a6ddbed",
   "metadata": {},
   "outputs": [
    {
     "name": "stdout",
     "output_type": "stream",
     "text": [
      "1\n",
      "2\n",
      "3\n",
      "4\n",
      "5\n",
      "6\n",
      "7\n",
      "8\n",
      "9\n",
      "10\n"
     ]
    }
   ],
   "source": [
    "for i in range(1,10+1):\n",
    "    print(i)"
   ]
  },
  {
   "cell_type": "raw",
   "id": "f5bb753f-4c5a-48d7-9660-bc26c357b11b",
   "metadata": {},
   "source": [
    "2. Write a Python program to print the numbers from 20 to 1 using a while loop."
   ]
  },
  {
   "cell_type": "code",
   "execution_count": 115,
   "id": "167bc7a8-8e19-4074-81e5-634aa7b47661",
   "metadata": {},
   "outputs": [
    {
     "name": "stdout",
     "output_type": "stream",
     "text": [
      "20\n",
      "19\n",
      "18\n",
      "17\n",
      "16\n",
      "15\n",
      "14\n",
      "13\n",
      "12\n",
      "11\n",
      "10\n",
      "9\n",
      "8\n",
      "7\n",
      "6\n",
      "5\n",
      "4\n",
      "3\n",
      "2\n",
      "1\n"
     ]
    }
   ],
   "source": [
    "number=20\n",
    "while number>=1:\n",
    "    print(number)\n",
    "    number=number-1\n",
    "    \n",
    "    \n"
   ]
  },
  {
   "cell_type": "raw",
   "id": "b893679b-cf9e-4890-a9bd-0015842c9398",
   "metadata": {},
   "source": [
    "3. Write a program to print even numbers from 1 to 10."
   ]
  },
  {
   "cell_type": "code",
   "execution_count": 28,
   "id": "665d75a7-ae78-4f59-9273-45d3cb6eb62a",
   "metadata": {},
   "outputs": [
    {
     "name": "stdout",
     "output_type": "stream",
     "text": [
      "2\n",
      "4\n",
      "6\n",
      "8\n",
      "10\n"
     ]
    }
   ],
   "source": [
    "for number in range(1,10+1):\n",
    "    if number%2==0:\n",
    "        print(number)"
   ]
  },
  {
   "cell_type": "raw",
   "id": "ddc8e104-655f-40fb-b7c5-1f195c89330e",
   "metadata": {},
   "source": [
    "4. Write a program that prompts the user to enter a number n and prints all the numbers from 1 to n."
   ]
  },
  {
   "cell_type": "code",
   "execution_count": 36,
   "id": "adb75b5f-7312-4789-ac35-1b438e51e957",
   "metadata": {},
   "outputs": [
    {
     "name": "stdin",
     "output_type": "stream",
     "text": [
      "enter your n 9\n"
     ]
    },
    {
     "name": "stdout",
     "output_type": "stream",
     "text": [
      "1\n",
      "2\n",
      "3\n",
      "4\n",
      "5\n",
      "6\n",
      "7\n",
      "8\n",
      "9\n"
     ]
    }
   ],
   "source": [
    "n=int(input('enter your n'))\n",
    "for number in range(1,n+1):\n",
    "    print(number)"
   ]
  },
  {
   "cell_type": "raw",
   "id": "4ff736c0-1848-4735-85a3-ac76a73f578a",
   "metadata": {},
   "source": [
    "5. Write a program that prompts the user to enter a number n, and then prints all the odd numbers between 1 and n."
   ]
  },
  {
   "cell_type": "code",
   "execution_count": 42,
   "id": "99895200-04e9-4426-a39d-aaee1d7612cd",
   "metadata": {},
   "outputs": [
    {
     "name": "stdin",
     "output_type": "stream",
     "text": [
      "enter your name 9\n"
     ]
    },
    {
     "name": "stdout",
     "output_type": "stream",
     "text": [
      "1\n",
      "3\n",
      "5\n",
      "7\n",
      "9\n"
     ]
    }
   ],
   "source": [
    "n=int(input('enter your name'))\n",
    "for n in range(1,n+1):\n",
    "    if n%2!=0:\n",
    "        print(n)"
   ]
  },
  {
   "cell_type": "raw",
   "id": "f7fd9912-957c-4b26-ba4c-846bd43f3450",
   "metadata": {},
   "source": [
    "6. Write a program that prints 'Happy Birthday!' five times on screen."
   ]
  },
  {
   "cell_type": "code",
   "execution_count": 46,
   "id": "fbc4f940-ebc0-4107-828d-e09a4e150fc4",
   "metadata": {},
   "outputs": [
    {
     "name": "stdout",
     "output_type": "stream",
     "text": [
      "happy birthday\n",
      "happy birthday\n",
      "happy birthday\n",
      "happy birthday\n",
      "happy birthday\n"
     ]
    }
   ],
   "source": [
    "for _ in range(5):\n",
    "    print('happy birthday')"
   ]
  },
  {
   "cell_type": "raw",
   "id": "5172f27a-7212-41e8-ba04-645f8efebddc",
   "metadata": {},
   "source": [
    "7. Write a program that takes a number n as input from the user and generates the first n terms of the series formed by squaring the natural numbers.\n",
    "Sample output\n",
    "Enter a number: 6\n",
    "The first 6 terms of the series are:\n",
    "1 4 9 16 25 36"
   ]
  },
  {
   "cell_type": "code",
   "execution_count": 61,
   "id": "794cda7a-152a-419a-8e09-16458d1b1ebb",
   "metadata": {},
   "outputs": [
    {
     "name": "stdin",
     "output_type": "stream",
     "text": [
      "enter yoyr n 6\n"
     ]
    },
    {
     "name": "stdout",
     "output_type": "stream",
     "text": [
      "1  4  9  16  25  36  "
     ]
    }
   ],
   "source": [
    "n=int(input('enter yoyr n'))\n",
    "for n in range(1,n+1):\n",
    "    print(n**2,end='  ')"
   ]
  },
  {
   "cell_type": "raw",
   "id": "0742252f-b729-4c42-836f-48ce3aa361dc",
   "metadata": {},
   "source": [
    "8. Write a program that prompts the user to input a number and prints its multiplication table."
   ]
  },
  {
   "cell_type": "code",
   "execution_count": 92,
   "id": "0b4d8042-431d-4799-9b39-9e27481cfed1",
   "metadata": {},
   "outputs": [
    {
     "name": "stdin",
     "output_type": "stream",
     "text": [
      "enter your number 5\n"
     ]
    },
    {
     "name": "stdout",
     "output_type": "stream",
     "text": [
      "5 * 1 = 5\n",
      "5 * 2 = 10\n",
      "5 * 3 = 15\n",
      "5 * 4 = 20\n",
      "5 * 5 = 25\n",
      "5 * 6 = 30\n",
      "5 * 7 = 35\n",
      "5 * 8 = 40\n",
      "5 * 9 = 45\n",
      "5 * 10 = 50\n",
      "5 * 11 = 55\n",
      "5 * 12 = 60\n",
      "5 * 13 = 65\n",
      "5 * 14 = 70\n",
      "5 * 15 = 75\n",
      "5 * 16 = 80\n",
      "5 * 17 = 85\n",
      "5 * 18 = 90\n",
      "5 * 19 = 95\n",
      "5 * 20 = 100\n"
     ]
    }
   ],
   "source": [
    "n=int(input('enter your number'))\n",
    "for i in range(1,20+1):\n",
    "    print(n,'*',i,'=',n*i)\n",
    "    "
   ]
  },
  {
   "cell_type": "raw",
   "id": "770571ae-9a76-4e38-8443-8f3f171535b2",
   "metadata": {},
   "source": [
    "9. Write a Python program to print the first 8 terms of anarithmetic progression starting with 3 and having a common difference of 4.\n",
    "The program should output the following sequence:3 7 11 15 19 23 27 31"
   ]
  },
  {
   "cell_type": "code",
   "execution_count": 101,
   "id": "24f3f50c-590e-4b80-9599-567fbacb667d",
   "metadata": {},
   "outputs": [
    {
     "name": "stdout",
     "output_type": "stream",
     "text": [
      "3 7 11 15 19 23 27 31 "
     ]
    }
   ],
   "source": [
    "first_term=3\n",
    "common_difference=4\n",
    "for i in range(8):\n",
    "    term=first_term+i*common_difference\n",
    "    print(term,end=' ')\n",
    "    \n",
    "    "
   ]
  },
  {
   "cell_type": "raw",
   "id": "7631dd36-3b8a-4071-8a02-98423450c00a",
   "metadata": {},
   "source": [
    "10. Write a Python program to print the first 6 terms of a geometric sequence starting with 2 and having a common ratio of 3.\n",
    "The program should output the following sequence:\n",
    "2 6 18 54 162 486"
   ]
  },
  {
   "cell_type": "code",
   "execution_count": 109,
   "id": "08c788f6-5570-4540-a93b-39f05e884080",
   "metadata": {},
   "outputs": [
    {
     "name": "stdout",
     "output_type": "stream",
     "text": [
      "2 6 18 54 162 486 "
     ]
    }
   ],
   "source": [
    "n=2\n",
    "r=3\n",
    "for i in range(6):\n",
    "    term=n*r**i\n",
    "    print(term,end=' ')"
   ]
  },
  {
   "cell_type": "raw",
   "id": "1435a8e3-0fbc-4579-98c2-7a4c9038ab5f",
   "metadata": {},
   "source": [
    "11. Write a program that asks the user for a positive integer value. The program shouldcalculate the sum of all the integers from 1 up to the number entered. For example, ifthe user enters 20, the loop will find the sum of 1, 2, 3, 4, ... 20."
   ]
  },
  {
   "cell_type": "code",
   "execution_count": 146,
   "id": "bbc36c7e-c89c-4b78-9d08-2c4c1c3aa938",
   "metadata": {},
   "outputs": [
    {
     "name": "stdin",
     "output_type": "stream",
     "text": [
      "enter your number 2\n"
     ]
    },
    {
     "name": "stdout",
     "output_type": "stream",
     "text": [
      "sum of integers from 1 to 2 is 3\n"
     ]
    }
   ],
   "source": [
    "n=int(input('enter your number'))\n",
    "if n >0:\n",
    "    total_sum=sum(range(1,n+1))\n",
    "    print(f'sum of integers from 1 to {n} is {total_sum}')\n",
    "else:\n",
    "    print('enter a positive integer')"
   ]
  },
  {
   "cell_type": "raw",
   "id": "bca0103c-bbb1-4841-ac17-c4d555c98f34",
   "metadata": {},
   "source": [
    "12. write a program that takes a positive integer N as input and calculates the sum of the reciprocals of all numbers from 1 up to N. The program should display the final sum.\n",
    "Output of the program should be like:\n",
    "Enter a positive integer: 5\n",
    "The sum of reciprocals from 1 to 5 is: 2.28"
   ]
  },
  {
   "cell_type": "code",
   "execution_count": 33,
   "id": "aeec90be-28e3-4af1-a45f-4661e30ac7c2",
   "metadata": {},
   "outputs": [
    {
     "name": "stdin",
     "output_type": "stream",
     "text": [
      "enter your positive integer 5\n"
     ]
    },
    {
     "name": "stdout",
     "output_type": "stream",
     "text": [
      "sum of recriprocal from 1 to 5 is 2.283333333333333\n"
     ]
    }
   ],
   "source": [
    "n=int(input('enter your positive integer'))\n",
    "if n>0:\n",
    "    reciprocal_sum=0\n",
    "    for i in range(1,n+1):\n",
    "        reciprocal_sum=reciprocal_sum+1/i\n",
    "    print(f'sum of recriprocal from 1 to {n} is {reciprocal_sum}')\n",
    "else:\n",
    "    print('take a positive integer')\n"
   ]
  },
  {
   "cell_type": "raw",
   "id": "80531ca8-c183-40d5-9ebd-cac782042d14",
   "metadata": {},
   "source": [
    "13. Write a program that prompts the user to enter a number and repeats this process 5times. The program should accumulate the numbers entered and then display the final running total.\n",
    "Sample Output:\n",
    "Enter a number: 10\n",
    "Enter a number: 15\n",
    "Enter a number: 35\n",
    "Enter a number: 40\n",
    "Enter a number: 50\n",
    "The final running total is: 150"
   ]
  },
  {
   "cell_type": "code",
   "execution_count": 42,
   "id": "273e4aeb-d157-4796-8736-d4540eb83e15",
   "metadata": {},
   "outputs": [
    {
     "name": "stdin",
     "output_type": "stream",
     "text": [
      "enter your namber 10\n",
      "enter your namber 15\n",
      "enter your namber 35\n",
      "enter your namber 40\n",
      "enter your namber 50\n"
     ]
    },
    {
     "name": "stdout",
     "output_type": "stream",
     "text": [
      "total sum is 150\n"
     ]
    }
   ],
   "source": [
    "total_sum=0\n",
    "for i in range(5):\n",
    "    number=int(input('enter your namber'))\n",
    "    total_sum=total_sum+number\n",
    "print(f'total sum is {total_sum}')"
   ]
  },
  {
   "cell_type": "raw",
   "id": "b2ff90b9-df60-44a2-99ff-37d5f7f29e2d",
   "metadata": {},
   "source": [
    "14. Write a program that prompts the user to enter a positive integer and calculates its factorial. The factorial of a positive integer 'n' is denoted as 'n!' and is calculated by  multiplying all the integers from 1 to 'n' together. For example, the factorial of 5\n",
    "(denoted as 5!) is calculated as 1 x 2 x 3 x 4 x 5.\n",
    "The program should display the factorial value if the input is a positive number, or display a message stating that the factorial does not exist for negative numbers.Additionally, for an input of zero, the program should output that the factorial of 0 is 1."
   ]
  },
  {
   "cell_type": "code",
   "execution_count": 48,
   "id": "312f15a4-5025-4f2c-bacb-1e4b2484b15f",
   "metadata": {},
   "outputs": [
    {
     "name": "stdin",
     "output_type": "stream",
     "text": [
      "enter your number 5\n"
     ]
    },
    {
     "name": "stdout",
     "output_type": "stream",
     "text": [
      "the factorial of 5 is 120\n"
     ]
    }
   ],
   "source": [
    "number=int(input('enter your number'))\n",
    "if number<0:\n",
    "    print('factorial does not exist for negative numbers')\n",
    "elif number==0:\n",
    "    print('factorial of zero is 1')\n",
    "else:\n",
    "    factorial=1\n",
    "    for i in range(1,number+1):\n",
    "        factorial=factorial*i\n",
    "    print(f'the factorial of {number} is {factorial}')"
   ]
  },
  {
   "cell_type": "raw",
   "id": "07d0f4c0-3b6a-4aec-b699-d2d9aa791069",
   "metadata": {},
   "source": [
    "15. Write a Python program that prompts the user to enter a base number and an exponent, and then calculates the power of the base to the exponent. The program should not use the exponentiation operator (**) or the math.pow() function. The program should handle both positive and negative exponents."
   ]
  },
  {
   "cell_type": "code",
   "execution_count": 58,
   "id": "3d837285-5633-4c28-91f6-f486468aa179",
   "metadata": {},
   "outputs": [
    {
     "name": "stdin",
     "output_type": "stream",
     "text": [
      "enter your base 2\n",
      "enter your exponent -3\n"
     ]
    },
    {
     "name": "stdout",
     "output_type": "stream",
     "text": [
      "2 to the power of -3 is:1.0\n"
     ]
    }
   ],
   "source": [
    "base=int(input('enter your base'))\n",
    "exponent=int(input('enter your exponent'))\n",
    "result=1\n",
    "\n",
    "if exponent>0:\n",
    "    for _ in range(exponent):\n",
    "        result=result*base\n",
    "elif exponent<0:\n",
    "    for _ in range(exponent):\n",
    "        result=result*base\n",
    "    result=1/result\n",
    "else:\n",
    "    result=1\n",
    "print(f'{base} to the power of {exponent} is:{result}')\n",
    "    "
   ]
  },
  {
   "cell_type": "markdown",
   "id": "cf011337-b8e8-4916-87fc-5f49c747ea19",
   "metadata": {},
   "source": [
    "# list Assignment"
   ]
  },
  {
   "cell_type": "raw",
   "id": "e762ba6c-bbea-4a92-aea0-8f01b6f486ce",
   "metadata": {},
   "source": [
    "1. Write a program that accepts a list from user and print the alternate element of list."
   ]
  },
  {
   "cell_type": "code",
   "execution_count": 17,
   "id": "5312bb04-5e17-4282-b7b8-d72ec5d71ca4",
   "metadata": {},
   "outputs": [
    {
     "name": "stdin",
     "output_type": "stream",
     "text": [
      "enter your list 1,2,3,4,5\n"
     ]
    },
    {
     "name": "stdout",
     "output_type": "stream",
     "text": [
      "1,2,3,4,5\n",
      "['1,2,3,4,5']\n"
     ]
    }
   ],
   "source": [
    "user_input=(input('enter your list'))\n",
    "user_list=user_input.split()\n",
    "print(user_input)\n",
    "print(user_list[::2])\n"
   ]
  },
  {
   "cell_type": "code",
   "execution_count": 19,
   "id": "8d703519-c349-49fa-8ea3-d18e2fbd3b7e",
   "metadata": {},
   "outputs": [
    {
     "name": "stdout",
     "output_type": "stream",
     "text": [
      "original list [1, 2, 3, 4, 5, 6, 7, 8, 9, 10]\n",
      "alternate numbers [1, 3, 5, 7, 9]\n"
     ]
    }
   ],
   "source": [
    "numbers=list(range(1,11))\n",
    "alternate_numbers=numbers[::2]\n",
    "print('original list',numbers)\n",
    "print('alternate numbers',alternate_numbers)"
   ]
  },
  {
   "cell_type": "raw",
   "id": "4515a647-f9a7-4a59-b9c1-039766866590",
   "metadata": {},
   "source": [
    "2. Write a program that accepts a list from user. Your program should reverse the content of list and display it. Do not use reverse() method."
   ]
  },
  {
   "cell_type": "code",
   "execution_count": 3,
   "id": "8967d5eb-2dcd-4bda-bb25-d76040b5a830",
   "metadata": {},
   "outputs": [
    {
     "name": "stdin",
     "output_type": "stream",
     "text": [
      "enter your list separated by commas 1 2 3 4 5 6 7 8 9\n"
     ]
    },
    {
     "name": "stdout",
     "output_type": "stream",
     "text": [
      "reversed_list ['9', '8', '7', '6', '5', '4', '3', '2', '1']\n"
     ]
    }
   ],
   "source": [
    "user_input=input('enter your list separated by commas')\n",
    "user_list=user_input.split()\n",
    "reversed_list=[]\n",
    "for item in user_list:\n",
    "    reversed_list.insert(0,item)\n",
    "print('reversed_list',reversed_list)"
   ]
  },
  {
   "cell_type": "raw",
   "id": "76d63f78-a513-47cd-a10b-9a5b448e338c",
   "metadata": {},
   "source": [
    "3. Find and display the largest number of a list without using built-in function max(). Your program should ask the user to input values in list from keyboard."
   ]
  },
  {
   "cell_type": "code",
   "execution_count": 37,
   "id": "b400ccce-04ab-479e-98ef-0318a4336265",
   "metadata": {},
   "outputs": [
    {
     "name": "stdin",
     "output_type": "stream",
     "text": [
      "enter numbers separated by spaces 1 2 3 4 5 6\n"
     ]
    },
    {
     "name": "stdout",
     "output_type": "stream",
     "text": [
      "the largest number in the list is 6\n"
     ]
    }
   ],
   "source": [
    "user_input=input('enter numbers separated by spaces')\n",
    "user_list=[int(x) for x in user_input.split()]\n",
    "largest_number=user_list[0]\n",
    "for num in user_list:\n",
    "    if num>largest_number:\n",
    "        largest_number=num\n",
    "print('the largest number in the list is',largest_number)"
   ]
  },
  {
   "cell_type": "raw",
   "id": "df0475d2-4cb1-496a-9c7d-405604bd2cc9",
   "metadata": {},
   "source": [
    "4. Write a program that rotates the element of a list so that the element at the first index moves to the second index, the element in the second index moves to the third index, etc., and the element in the last index moves to the first index."
   ]
  },
  {
   "cell_type": "code",
   "execution_count": 39,
   "id": "9e6efdb8-97c5-4c27-b183-1097440e9780",
   "metadata": {},
   "outputs": [
    {
     "name": "stdin",
     "output_type": "stream",
     "text": [
      "enter numbers separated by spaces 1 2 3 4 5 6\n"
     ]
    },
    {
     "name": "stdout",
     "output_type": "stream",
     "text": [
      "rotated list is [2, 3, 4, 5, 6, 1]\n"
     ]
    }
   ],
   "source": [
    "user_input=input('enter numbers separated by spaces')\n",
    "user_list=[int(x) for x in user_input.split()]\n",
    "rotated_list=user_list[1:]+[user_list[0]]\n",
    "print('rotated list is',rotated_list)\n"
   ]
  },
  {
   "cell_type": "raw",
   "id": "c0bcb337-c9df-4a4a-a8f2-5c8167477df6",
   "metadata": {},
   "source": [
    "5. Write a program that input a string and ask user to delete a given word from a string."
   ]
  },
  {
   "cell_type": "code",
   "execution_count": 49,
   "id": "1a5fa02c-9e45-44ec-924a-75fab79d2df0",
   "metadata": {},
   "outputs": [
    {
     "name": "stdin",
     "output_type": "stream",
     "text": [
      "enter your string i am pakistani\n",
      "enter the word to delete pakistani\n"
     ]
    },
    {
     "name": "stdout",
     "output_type": "stream",
     "text": [
      "the modified string is i am \n"
     ]
    }
   ],
   "source": [
    "string=input('enter your string')\n",
    "word_to_delete=input('enter the word to delete')\n",
    "modified_string=string.replace(word_to_delete,\"\")\n",
    "print('the modified string is',modified_string)\n",
    "\n"
   ]
  },
  {
   "cell_type": "raw",
   "id": "f9655a6e-9d91-47e5-a1f3-dbce66c6d26e",
   "metadata": {},
   "source": [
    "6. Write a program that reads a string from the user containing a date in the form mm/dd/yyyy. It should print the date in the form March 12, 2021."
   ]
  },
  {
   "cell_type": "code",
   "execution_count": 29,
   "id": "2f89002b-3bc3-45c2-9866-3b6ad3bf08d1",
   "metadata": {},
   "outputs": [
    {
     "name": "stdin",
     "output_type": "stream",
     "text": [
      "enter the date in the fromat mm/dd/yyyy 12/4/2024\n"
     ]
    },
    {
     "name": "stdout",
     "output_type": "stream",
     "text": [
      "December 4,2024\n"
     ]
    }
   ],
   "source": [
    "months = {\n",
    "    1: \"January\", 2: \"February\", 3: \"March\", 4: \"April\",\n",
    "    5: \"May\", 6: \"June\", 7: \"July\", 8: \"August\",\n",
    "    9: \"September\", 10: \"October\", 11: \"November\", 12: \"December\"}\n",
    "\n",
    "date=input('enter the date in the fromat mm/dd/yyyy').split('/')\n",
    "print(f'{months.get(int(date[0]))} {(date[1])},{date[2]}')\n",
    "\n",
    "\n"
   ]
  },
  {
   "cell_type": "raw",
   "id": "0a3cbff5-0d40-40cd-9613-0db0e08ad15e",
   "metadata": {},
   "source": [
    "7. Write a program with a function that accepts a string from keyboard and create a new string after converting character of each word capitalized. For instance, if the sentence is \"stop and smell the roses.\"the output should be \"Stop And Smell The Roses\"."
   ]
  },
  {
   "cell_type": "code",
   "execution_count": 33,
   "id": "ef9cd527-f0c8-413e-a231-569ab1da9a62",
   "metadata": {},
   "outputs": [
    {
     "name": "stdin",
     "output_type": "stream",
     "text": [
      "enter your string my name is rose\n"
     ]
    },
    {
     "name": "stdout",
     "output_type": "stream",
     "text": [
      "my name is rose\n",
      "MY NAME IS ROSE\n"
     ]
    }
   ],
   "source": [
    "name=input('enter your string').lower()\n",
    "print(name)\n",
    "print(name.upper())"
   ]
  },
  {
   "cell_type": "raw",
   "id": "25fb812f-d24d-45e5-84c6-d49510e5ac50",
   "metadata": {},
   "source": [
    "8. Find the sum of each row of matrix of size m x n. For example for the following matrix output will be like this :\n",
    "2  11  7  12\n",
    "5  2  9   15\n",
    "8  3  10  42\n",
    "\n",
    "Sum of row 1 = 32\n",
    "Sum of row 2 = 31\n",
    "Sum of row 3 = 63"
   ]
  },
  {
   "cell_type": "code",
   "execution_count": 11,
   "id": "9fd227f2-de6d-473c-8165-955775f7e151",
   "metadata": {},
   "outputs": [
    {
     "name": "stdout",
     "output_type": "stream",
     "text": [
      "sum of row 1=32\n",
      "sum of row 2=31\n",
      "sum of row 3=63\n"
     ]
    }
   ],
   "source": [
    "matrix = [\n",
    "    [2, 11, 7, 12],\n",
    "    [5, 2, 9, 15],\n",
    "    [8, 3, 10, 42]]\n",
    "for i,row in enumerate(matrix):\n",
    "    row_sum=sum(row)\n",
    "    print(f\"sum of row {i+1}={row_sum}\")"
   ]
  },
  {
   "cell_type": "raw",
   "id": "946b718d-834f-4d83-a7d4-4a9880fe3c34",
   "metadata": {},
   "source": [
    "9. Write a program to add two matrices of size n x m."
   ]
  },
  {
   "cell_type": "code",
   "execution_count": 17,
   "id": "c9655dd4-12f3-45fa-a913-7d04bcb57831",
   "metadata": {},
   "outputs": [
    {
     "name": "stdout",
     "output_type": "stream",
     "text": [
      "result matrix\n",
      "[10, 10, 10]\n",
      "[10, 10, 10]\n",
      "[10, 10, 10]\n"
     ]
    }
   ],
   "source": [
    "matrix1 = [\n",
    "    [1, 2, 3],\n",
    "    [4, 5, 6],\n",
    "    [7, 8, 9]]\n",
    "matrix2 = [\n",
    "    [9, 8, 7],\n",
    "    [6, 5, 4],\n",
    "    [3, 2, 1]]\n",
    "result=[]\n",
    "for i in range(len(matrix1)):\n",
    "    row=[]\n",
    "    for j in range(len(matrix2[0])):\n",
    "        row.append(matrix1[i][j]+matrix2[i][j])\n",
    "    result.append(row)\n",
    "print('result matrix')\n",
    "for row in result:\n",
    "    print(row)"
   ]
  },
  {
   "cell_type": "raw",
   "id": "9fb5a7b4-ad71-481c-9bf6-7e9640bc64e3",
   "metadata": {},
   "source": [
    "10. Write a program to multiply two matrices"
   ]
  },
  {
   "cell_type": "code",
   "execution_count": 5,
   "id": "4247080d-7cc9-46c8-96e7-e21e09307948",
   "metadata": {},
   "outputs": [
    {
     "name": "stdout",
     "output_type": "stream",
     "text": [
      "resultant matrix:\n",
      "[30, 24, 18]\n",
      "[84, 69, 54]\n",
      "[138, 114, 90]\n"
     ]
    }
   ],
   "source": [
    "matrix1 = [\n",
    "    [1, 2, 3],\n",
    "    [4, 5, 6],\n",
    "    [7, 8, 9]]\n",
    "matrix2 = [\n",
    "    [9, 8, 7],\n",
    "    [6, 5, 4],\n",
    "    [3, 2, 1]]\n",
    "result=[[0 for _ in range(len(matrix2[0]))] for _ in range(len(matrix1))]\n",
    "for i in range(len(matrix1)):\n",
    "    for j in range(len(matrix2[0])):\n",
    "        for k in range(len(matrix2)):\n",
    "            result[i][j]+=matrix1[i][k]*matrix2[k][j]\n",
    "print('resultant matrix:')\n",
    "for row in result:\n",
    "    print(row)\n"
   ]
  },
  {
   "cell_type": "markdown",
   "id": "1ebae2cb-d640-487f-bf33-ef58e61bd0a4",
   "metadata": {},
   "source": [
    "# conditional structures"
   ]
  },
  {
   "cell_type": "raw",
   "id": "c3275dea-a5b9-465e-8c67-a67416de1a6f",
   "metadata": {},
   "source": [
    "1. Write a program that prompts the user to input a number and display if the number is even or odd."
   ]
  },
  {
   "cell_type": "code",
   "execution_count": 46,
   "id": "e2e2da69-8088-49ca-ab3b-9665d8f88a0b",
   "metadata": {},
   "outputs": [
    {
     "name": "stdin",
     "output_type": "stream",
     "text": [
      "enter you number 3\n"
     ]
    },
    {
     "name": "stdout",
     "output_type": "stream",
     "text": [
      "3 is odd\n"
     ]
    }
   ],
   "source": [
    "number=int(input('enter you number'))\n",
    "if number%2==0:\n",
    "    print(f' {number} is even')\n",
    "elif number%2!=0:\n",
    "    print(f'{number } is odd') \n",
    "else:\n",
    "    print('it is correct number')"
   ]
  },
  {
   "cell_type": "raw",
   "id": "cb01facd-100b-4e14-833c-232b1c86483b",
   "metadata": {},
   "source": [
    "2. Write a Python program that takes an age as input and determines whether a person is eligible to vote. If the age is 18 or above, print \"You are eligible to vote.\" Otherwise, print \"You are not eligible to vote yet.\"."
   ]
  },
  {
   "cell_type": "code",
   "execution_count": 16,
   "id": "7593425b-fbf7-44ec-b510-d85a5c656bcb",
   "metadata": {},
   "outputs": [
    {
     "name": "stdin",
     "output_type": "stream",
     "text": [
      "enter you age 18\n"
     ]
    },
    {
     "name": "stdout",
     "output_type": "stream",
     "text": [
      "you are eligible for voting\n"
     ]
    }
   ],
   "source": [
    "age=int(input('enter you age'))\n",
    "if age>=18:\n",
    "    print('you are eligible for voting')\n",
    "else:\n",
    "    print('you are not eligible')\n"
   ]
  },
  {
   "cell_type": "raw",
   "id": "8ffaba91-ae0d-4618-b03a-47a555704062",
   "metadata": {},
   "source": [
    "3. Write a program that prompts the user to input two integers and outputs the largest."
   ]
  },
  {
   "cell_type": "code",
   "execution_count": 22,
   "id": "983680fa-6ea9-484a-bac3-66196e54d091",
   "metadata": {},
   "outputs": [
    {
     "name": "stdin",
     "output_type": "stream",
     "text": [
      "enter the first integer 4\n",
      "enter the second integer 5\n"
     ]
    },
    {
     "name": "stdout",
     "output_type": "stream",
     "text": [
      "the largest number is: 5\n"
     ]
    }
   ],
   "source": [
    "num1=int(input('enter the first integer'))\n",
    "num2=int(input('enter the second integer'))\n",
    "if num1>num2:\n",
    "    print(f'the largest number is :{num1}')\n",
    "if num2>num1:\n",
    "    print(f'the largest number is: {num2}')\n",
    "else:\n",
    "    print('both are equal')"
   ]
  },
  {
   "cell_type": "raw",
   "id": "f52341b4-957d-46e0-bdc4-d70db8517410",
   "metadata": {},
   "source": [
    "4. Write a program that prompts the user to enter a number and determines whether it is positive, negative, or zero. The program should print \"Positive\" if the number is greater than 0, \"Negative\" if the number is less than 0, and \"Zero\" if the number is 0."
   ]
  },
  {
   "cell_type": "code",
   "execution_count": 30,
   "id": "8b18cdb0-4c4d-48de-b4fe-afefc8a1b92b",
   "metadata": {},
   "outputs": [
    {
     "name": "stdin",
     "output_type": "stream",
     "text": [
      "enter your number 2\n"
     ]
    },
    {
     "name": "stdout",
     "output_type": "stream",
     "text": [
      "it is a positive number\n"
     ]
    }
   ],
   "source": [
    "number=int(input('enter your number'))\n",
    "if number>0:\n",
    "    print('it is a positive number')\n",
    "elif number<0:\n",
    "    print(\";number is negative\")\n",
    "elif number==0:\n",
    "    print('it is zero number')\n",
    "else:\n",
    "    print('out of context')"
   ]
  },
  {
   "cell_type": "raw",
   "id": "3451649a-e5c2-4faf-b4a9-ebff2c00c14d",
   "metadata": {},
   "source": [
    "5. Write a program that prompts the user to enter their age and prints the\n",
    "corresponding age group. The program should use the following age groups:\n",
    "0-12: Child\n",
    "13-19: Teenager\n",
    "20-59: Adult\n",
    "60 and above: Senior Citizen"
   ]
  },
  {
   "cell_type": "code",
   "execution_count": 38,
   "id": "9e34fe2c-480a-4c90-9fde-2a0fb431b11a",
   "metadata": {},
   "outputs": [
    {
     "name": "stdin",
     "output_type": "stream",
     "text": [
      "enter your age 80\n"
     ]
    },
    {
     "name": "stdout",
     "output_type": "stream",
     "text": [
      "you are senior citizen\n"
     ]
    }
   ],
   "source": [
    "age=int(input('enter your age'))\n",
    "if age>0 and age<12:\n",
    "    print('you are teenage')\n",
    "elif age>13 and age<19:\n",
    "    print('you are teenage')\n",
    "elif age>20 and age<59:\n",
    "    print('you are adult')\n",
    "else:\n",
    "    print('you are senior citizen')"
   ]
  },
  {
   "cell_type": "raw",
   "id": "f56d2642-9a20-4751-9f40-7eaa4737ff37",
   "metadata": {},
   "source": [
    "6. Write a program that prompts the user to input a number from 1 to 7. The program should display the corresponding day for the given number. For example, if the user types 1, the output should be Sunday. If the user types 7, the output should be Saturday. If the number is not between 1 to 7 user should get error message as shown in sample output."
   ]
  },
  {
   "cell_type": "code",
   "execution_count": 44,
   "id": "e8667fc1-15b9-442a-a8f7-773f0d7ea4b9",
   "metadata": {},
   "outputs": [
    {
     "name": "stdin",
     "output_type": "stream",
     "text": [
      "enter your days 4\n"
     ]
    },
    {
     "name": "stdout",
     "output_type": "stream",
     "text": [
      "wednesday\n"
     ]
    }
   ],
   "source": [
    "day=int(input('enter your days'))\n",
    "if day==1:\n",
    "    print('sunday')\n",
    "elif day==2:\n",
    "    print('monday')\n",
    "elif day==3:\n",
    "    print('tuesday')\n",
    "elif day==4:\n",
    "    print('wednesday')\n",
    "elif day==5:\n",
    "    print('thursday')\n",
    "elif day==6:\n",
    "    print('friday')\n",
    "elif day==7:\n",
    "    print('saturday')\n",
    "else:\n",
    "    print('plz enter between 1 to 7')\n",
    "\n"
   ]
  },
  {
   "cell_type": "raw",
   "id": "639c8c57-c4a2-48dd-8c45-e1f3c3af0f3d",
   "metadata": {},
   "source": [
    "7. Write a program that prompts the user to enter their weight (in kilograms) and height (in meters). The program should calculate the Body Mass Index (BMI) using the formula:\n",
    "BMI = weight / (height * height). The program should then classify the BMI into one of the following categories:\n",
    "less than 18.5 - Underweight\n",
    "BMI between 18.5 and 24.9 - Normal weight\n",
    "BMI between 25 and 29.9 - Overweight\n",
    "BMI 30 or greater - Obesity"
   ]
  },
  {
   "cell_type": "code",
   "execution_count": 3,
   "id": "6fd026ad-1b35-471d-9d7b-303888591f49",
   "metadata": {},
   "outputs": [
    {
     "name": "stdin",
     "output_type": "stream",
     "text": [
      "enter your weight 20\n",
      "enter your height 5\n"
     ]
    },
    {
     "name": "stdout",
     "output_type": "stream",
     "text": [
      "underweight\n"
     ]
    }
   ],
   "source": [
    "weight=int(input('enter your weight'))\n",
    "height=int(input('enter your height'))\n",
    "body_mass=weight/weight*height\n",
    "if body_mass<=18.5:\n",
    "    print('underweight')\n",
    "elif body_mass>=18.5 and body_mass<=24.9:\n",
    "    print('normal weight')\n",
    "elif body_mass>=24.9 and body_mass<=29.5:\n",
    "    print('normal weight')\n",
    "else:\n",
    "    print('obesity')"
   ]
  },
  {
   "cell_type": "raw",
   "id": "af006caf-f1d8-4d64-b8da-34fcf73114e4",
   "metadata": {},
   "source": [
    "8. The marks obtained by a student in 3 different subjects are input by the user. Your program should calculate the average of subjects and display the grade. The student gets a grade as per the following rules:\n",
    "Average Grade\n",
    "90-100 A\n",
    "80-89 B\n",
    "70-79 C\n",
    "60-69 D\n",
    "0-59 F"
   ]
  },
  {
   "cell_type": "code",
   "execution_count": 15,
   "id": "7cda7bf4-01d3-4101-a44c-72679d040315",
   "metadata": {},
   "outputs": [
    {
     "name": "stdin",
     "output_type": "stream",
     "text": [
      "enter your numbers 1\n",
      "enter your numbers 1\n",
      "enter your numbers 1\n"
     ]
    },
    {
     "name": "stdout",
     "output_type": "stream",
     "text": [
      "your ave is 1.0\n",
      "your grade is F\n"
     ]
    }
   ],
   "source": [
    "s1=int(input('enter your numbers'))\n",
    "s2=int(input('enter your numbers'))\n",
    "s3=int(input('enter your numbers'))\n",
    "ave=(s1+s2+s3)/3\n",
    "grade=[]\n",
    "if ave>=90 and ave <=100:\n",
    "    grade.append('A')\n",
    "elif ave>=80 and ave<=89:\n",
    "    grade.append('B')\n",
    "elif ave>=70 and ave<=79:\n",
    "    grade.append('C')\n",
    "elif ave>=60 and ave<=69:\n",
    "    grade.append('D')\n",
    "elif ave>=0 and ave<=59:\n",
    "    grade.append('F')\n",
    "else:\n",
    "    grade.append('nothing')\n",
    "print(f'your ave is {ave}')\n",
    "print(f'your grade is {grade[0]}')\n",
    "    "
   ]
  },
  {
   "cell_type": "raw",
   "id": "6e46b680-91e8-4ed3-8e22-2657af2b0e48",
   "metadata": {},
   "source": [
    "9. The roots of the quadratic equation ax2+ bx + c = 0, a ≠ 0 are given by the following formula:\n",
    "In this formula, the term b2- 4ac is called the discriminant. If b2\n",
    "- 4ac = 0, then the equation has two equal roots.\n",
    "If b2- 4ac > 0, the equation has two real roots. If b2- 4ac < 0, the equation has two\n",
    "complex roots.\n",
    "Write a program that prompts the user to input the value of a (thecoefficient of x2), b(the coefficient of x), and c (the constant term) and outputs the roots of the quadratic\n",
    "equation."
   ]
  },
  {
   "cell_type": "code",
   "execution_count": 17,
   "id": "9a8ad981-5f50-4ce8-8452-80dc04693bbb",
   "metadata": {},
   "outputs": [
    {
     "name": "stdin",
     "output_type": "stream",
     "text": [
      "enter your number 3\n",
      "enter your number 1\n",
      "enter your number 2\n"
     ]
    },
    {
     "name": "stdout",
     "output_type": "stream",
     "text": [
      "complex roots\n"
     ]
    }
   ],
   "source": [
    "a=int(input('enter your number'))\n",
    "b=int(input('enter your number'))\n",
    "c=int(input('enter your number'))\n",
    "x=b**2-4*a*c\n",
    "if x==0:\n",
    "    print('these are equal roots')\n",
    "elif x<=0:\n",
    "    print('complex roots')\n",
    "elif x>=0:\n",
    "    print('these are real roots')\n",
    "else:\n",
    "    print('none')\n",
    "    "
   ]
  },
  {
   "cell_type": "raw",
   "id": "a04bbc18-e322-42d4-a51d-67879ba687d3",
   "metadata": {},
   "source": [
    "10. Write a program that prompts the user to enter three numbers and sorts them in ascending order. The program should print the sorted numbers."
   ]
  },
  {
   "cell_type": "code",
   "execution_count": 31,
   "id": "8969a9a9-fadb-45e2-80e7-185282d80289",
   "metadata": {},
   "outputs": [
    {
     "name": "stdin",
     "output_type": "stream",
     "text": [
      "enter number 89\n",
      "enter number 3\n",
      "enter number 67\n"
     ]
    },
    {
     "name": "stdout",
     "output_type": "stream",
     "text": [
      "these are ascending numbers  [3, 67, 89]\n"
     ]
    }
   ],
   "source": [
    "n1=int(input('enter number'))\n",
    "n2=int(input('enter number'))\n",
    "n3=int(input('enter number'))\n",
    "numbers=[n1,n2,n3]\n",
    "numbers.sort()\n",
    "print('these are ascending numbers ', numbers)\n"
   ]
  },
  {
   "cell_type": "raw",
   "id": "4fabed63-3323-4439-a3bf-550e4461b4d1",
   "metadata": {},
   "source": [
    "11. Write a program that prompts the user to input three integers and outputs the largest."
   ]
  },
  {
   "cell_type": "code",
   "execution_count": 37,
   "id": "ee9e350a-849b-461f-9cfc-d30091c9c3d7",
   "metadata": {},
   "outputs": [
    {
     "name": "stdin",
     "output_type": "stream",
     "text": [
      "enter number 34\n",
      "enter number 56\n",
      "enter number 32\n"
     ]
    },
    {
     "name": "stdout",
     "output_type": "stream",
     "text": [
      " the max number is 56\n"
     ]
    }
   ],
   "source": [
    "n1=int(input('enter number'))\n",
    "n2=int(input('enter number'))\n",
    "n3=int(input('enter number'))\n",
    "numbers=[n1,n2,n3]\n",
    "print(f' the max number is',max(numbers))"
   ]
  },
  {
   "cell_type": "raw",
   "id": "2630ec8a-26ee-45c8-8b15-877e38a33a1d",
   "metadata": {},
   "source": [
    "12. Write a program that prompts the user to input a character and determine the character is vowel or consonant."
   ]
  },
  {
   "cell_type": "code",
   "execution_count": 45,
   "id": "96c28d95-2981-4eec-8ca4-b2bf3f9d8b46",
   "metadata": {},
   "outputs": [
    {
     "name": "stdin",
     "output_type": "stream",
     "text": [
      "enter your character a\n"
     ]
    },
    {
     "name": "stdout",
     "output_type": "stream",
     "text": [
      "it is vowel\n"
     ]
    }
   ],
   "source": [
    "character=input('enter your character')\n",
    "if character  in ['a','e','i','o','u']:\n",
    "    print('it is vowel')\n",
    "else:\n",
    "    print('it is consonent')"
   ]
  },
  {
   "cell_type": "raw",
   "id": "1591ab11-8699-4b21-a4c5-6da928d0db1e",
   "metadata": {},
   "source": [
    "13. Write a program that prompts the user to input a year and determine whether the year is a leap year or not. Leap Years are any year that can be evenly divided by 4. A year that is evenly divisible by 100 is a leap year only if it is also evenly divisible by 400. Example:\n",
    "1992 Leap Year\n",
    "2000 Leap Year\n",
    "1900 NOT a Leap Year\n",
    "1995 NOT a Leap Year"
   ]
  },
  {
   "cell_type": "code",
   "execution_count": 55,
   "id": "5ba5362c-fb24-4f26-86c2-754645f91d23",
   "metadata": {},
   "outputs": [
    {
     "name": "stdin",
     "output_type": "stream",
     "text": [
      "enter your year 1900\n"
     ]
    },
    {
     "name": "stdout",
     "output_type": "stream",
     "text": [
      "it is not leap year\n"
     ]
    }
   ],
   "source": [
    "year=int(input('enter your year'))\n",
    "if (year%4==0 and year%100!=0)or (year%400==0):\n",
    "    print('it is a leap year')\n",
    "else:\n",
    "    print('it is not leap year')"
   ]
  },
  {
   "cell_type": "raw",
   "id": "79e353ea-3b20-41c8-9b16-b03e741c4fe7",
   "metadata": {},
   "source": [
    "14. Write a program that prompts the user to input number of calls and calculate the monthly telephone bills as per the following rule:\n",
    "Minimum Rs. 200 for up to 100 calls.\n",
    "Plus Rs. 0.60 per call for next 50 calls.\n",
    "Plus Rs. 0.50 per call for next 50 calls.\n",
    "Plus Rs. 0.40 per call for any call beyond 200 calls."
   ]
  },
  {
   "cell_type": "code",
   "execution_count": 61,
   "id": "21c1a8d5-fc77-4bf1-9178-d5acdc068e12",
   "metadata": {},
   "outputs": [
    {
     "name": "stdin",
     "output_type": "stream",
     "text": [
      "entr your calls 2\n"
     ]
    },
    {
     "name": "stdout",
     "output_type": "stream",
     "text": [
      "total telephone bill is 100\n"
     ]
    }
   ],
   "source": [
    "calls=int(input('entr your calls'))\n",
    "bill=0\n",
    "if calls<=100:\n",
    "    bill=100\n",
    "elif calls<=150:\n",
    "    bill=200+(calls-100)*0.60\n",
    "elif calls<=200:\n",
    "    bill=200+(50*0.60)+(calls-150)*0.50\n",
    "else:\n",
    "    bill=200+(50*0.60)+(50*0.50)+(calls-200)*0.40\n",
    "print(f'total telephone bill is {bill}')\n"
   ]
  },
  {
   "cell_type": "code",
   "execution_count": null,
   "id": "95a26bfe-751d-4136-95a0-97124c666a51",
   "metadata": {},
   "outputs": [],
   "source": []
  }
 ],
 "metadata": {
  "kernelspec": {
   "display_name": "Python 3 (ipykernel)",
   "language": "python",
   "name": "python3"
  },
  "language_info": {
   "codemirror_mode": {
    "name": "ipython",
    "version": 3
   },
   "file_extension": ".py",
   "mimetype": "text/x-python",
   "name": "python",
   "nbconvert_exporter": "python",
   "pygments_lexer": "ipython3",
   "version": "3.12.7"
  }
 },
 "nbformat": 4,
 "nbformat_minor": 5
}

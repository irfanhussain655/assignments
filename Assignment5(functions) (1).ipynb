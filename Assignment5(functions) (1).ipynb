{
 "cells": [
  {
   "cell_type": "raw",
   "id": "cb5a00e4-252b-41e3-9044-b87e0a3f213e",
   "metadata": {},
   "source": [
    "Task1:\n",
    "You need to write a function in python that return all such numbers which are\n",
    "divisible by 7 but are not a multiple of 5, between 2000 and 3200 (both included).\n",
    "Return the obtained numbers in a comma-separated sequence on a single line. "
   ]
  },
  {
   "cell_type": "code",
   "execution_count": 9,
   "id": "8f6cf358-cccc-443f-b8b3-a9a8ebb61c61",
   "metadata": {},
   "outputs": [
    {
     "name": "stdout",
     "output_type": "stream",
     "text": [
      "2002,2009,2016,2023,2037,2044,2051,2058,2072,2079,2086,2093,2107,2114,2121,2128,2142,2149,2156,2163,2177,2184,2191,2198,2212,2219,2226,2233,2247,2254,2261,2268,2282,2289,2296,2303,2317,2324,2331,2338,2352,2359,2366,2373,2387,2394,2401,2408,2422,2429,2436,2443,2457,2464,2471,2478,2492,2499,2506,2513,2527,2534,2541,2548,2562,2569,2576,2583,2597,2604,2611,2618,2632,2639,2646,2653,2667,2674,2681,2688,2702,2709,2716,2723,2737,2744,2751,2758,2772,2779,2786,2793,2807,2814,2821,2828,2842,2849,2856,2863,2877,2884,2891,2898,2912,2919,2926,2933,2947,2954,2961,2968,2982,2989,2996,3003,3017,3024,3031,3038,3052,3059,3066,3073,3087,3094,3101,3108,3122,3129,3136,3143,3157,3164,3171,3178,3192,3199\n"
     ]
    }
   ],
   "source": [
    "def find_numbers():\n",
    "    numbers=[str(num) for num in range(2000,3201) if num%7==0 and num%5!=0]\n",
    "    return ','.join(numbers)\n",
    "result=find_numbers()\n",
    "print(result)\n",
    "        "
   ]
  },
  {
   "cell_type": "raw",
   "id": "5251828c-3fb6-449a-b56d-f60bd3ab437a",
   "metadata": {},
   "source": [
    "Task2\n",
    "You need code a function that calculates and returns the value according tothe\n",
    "given formula:\n",
    "P = Square root of [(2 * A * B)/C]\n",
    "Following are the fixed values of A and B:\n",
    "A is 50. B is 30.\n",
    "The values of the literal C should be taken as console input to your program in a comma-separated sequence.\n",
    "Example\n",
    "Let us assume the following comma separated input sequence is given to the\n",
    "program:\n",
    "100,150,180\n",
    "The output of the program should be:\n",
    "18,22,24 \n"
   ]
  },
  {
   "cell_type": "code",
   "execution_count": 1,
   "id": "0f624174-3791-4deb-8d73-01eb645c6447",
   "metadata": {},
   "outputs": [],
   "source": [
    "import math\n",
    "def calculate_p(c):\n",
    "    a=50\n",
    "    b=30\n",
    "    p=math.sqrt((2*a*b)/c)\n",
    "    return p\n",
    "\n"
   ]
  },
  {
   "cell_type": "code",
   "execution_count": 3,
   "id": "4cf6cce7-95c7-41c1-9ac9-8a052feace10",
   "metadata": {},
   "outputs": [
    {
     "data": {
      "text/plain": [
       "15.811388300841896"
      ]
     },
     "execution_count": 3,
     "metadata": {},
     "output_type": "execute_result"
    }
   ],
   "source": [
    "calculate_p(12)"
   ]
  },
  {
   "cell_type": "raw",
   "id": "f7686b9c-aa8c-496c-8093-451ac3dda64a",
   "metadata": {},
   "source": [
    "Task3:\n",
    "You need to write a function that takes a comma separated sequence of words as\n",
    "input and prints the words in a comma-separated sequence after sorting them\n",
    "alphabetically.Suppose the following input is supplied to the program:\n",
    "without,hello,bag,world\n",
    "Then, the output should be:\n",
    "bag,hello,without,world "
   ]
  },
  {
   "cell_type": "code",
   "execution_count": 16,
   "id": "78a86796-0b54-4ff1-8a6a-22f7c8149a58",
   "metadata": {},
   "outputs": [],
   "source": [
    "def sort_words(input_string):\n",
    "    words=input_string.split(\",\")\n",
    "    sorted_words=sorted(words)\n",
    "    result=','.join(sorted_words)\n",
    "    print(result)"
   ]
  },
  {
   "cell_type": "code",
   "execution_count": 26,
   "id": "27efaa41-37d1-46a1-9596-0bb3ef0492b9",
   "metadata": {},
   "outputs": [
    {
     "name": "stdout",
     "output_type": "stream",
     "text": [
      "bag,hello,without,world\n"
     ]
    }
   ],
   "source": [
    "input_sequence=\"without,hello,bag,world\"\n",
    "sort_words(input_sequence)"
   ]
  },
  {
   "cell_type": "raw",
   "id": "9a773d42-2d65-4e7a-bd17-06413d26c782",
   "metadata": {},
   "source": [
    "Task4:\n",
    "You need to write a program that takes sequence of lines as input and prints the lines after making all characters in the sentence capitalized.\n",
    "Suppose the following input is supplied to the program:\n",
    "Hello world\n",
    "Practice makes perfect\n",
    "Then, the output should be: \n",
    "HELLO WORLD\n",
    "PRACTICE MAKES PERFECT "
   ]
  },
  {
   "cell_type": "code",
   "execution_count": 50,
   "id": "0cad5507-cd15-403d-843a-a546f9c8dd9f",
   "metadata": {},
   "outputs": [],
   "source": [
    "def captalize_lines():\n",
    "    print('enter lines of text')\n",
    "    lines=[]\n",
    "    while True:\n",
    "        line=input()\n",
    "        if line==\"\":\n",
    "            break\n",
    "        lines.append(line.upper())\n",
    "    print(\"output\")\n",
    "    for line in lines:\n",
    "        print(line)"
   ]
  },
  {
   "cell_type": "code",
   "execution_count": 52,
   "id": "a7b62cd8-f5fd-46f9-b53b-4764a43fb63f",
   "metadata": {},
   "outputs": [
    {
     "name": "stdout",
     "output_type": "stream",
     "text": [
      "enter lines of text\n"
     ]
    },
    {
     "name": "stdin",
     "output_type": "stream",
     "text": [
      " hello world\n",
      " practice makes perfect\n",
      " \n"
     ]
    },
    {
     "name": "stdout",
     "output_type": "stream",
     "text": [
      "output\n",
      "HELLO WORLD\n",
      "PRACTICE MAKES PERFECT\n"
     ]
    }
   ],
   "source": [
    "captalize_lines()"
   ]
  },
  {
   "cell_type": "raw",
   "id": "f5454d91-8040-4ddd-b551-e1d33f7b0368",
   "metadata": {},
   "source": [
    "Task5:\n",
    "You need to write a function that counts the number of vowels in a given\n",
    "sentence as input from console.\n",
    "Suppose the following input is supplied to the program:\n",
    "Hello world\n",
    "Practice makes perfect\n",
    "Then, the output should be:\n",
    "a appeared 2 times\n",
    "e appeared 5 times\n",
    "i appeared 1 time\n",
    "o appeared 2 times\n",
    "u appeared 0 time\n",
    "PRACTICE MAKES PERFECT "
   ]
  },
  {
   "cell_type": "code",
   "execution_count": 72,
   "id": "db6bcd6a-de56-4d98-98b8-6f8be0b117a5",
   "metadata": {},
   "outputs": [],
   "source": [
    "def count_vowels():\n",
    "    text=input('enter a sentence').lower()\n",
    "    vowels='aeiou'\n",
    "    for vowel in vowels:\n",
    "        count=text.count(vowel)\n",
    "        print(f'{vowel} appeared {count} time{'s' if count!=1 else ''}')"
   ]
  },
  {
   "cell_type": "code",
   "execution_count": 74,
   "id": "9ec1e253-cf7d-449d-be55-ff7f09fac096",
   "metadata": {},
   "outputs": [
    {
     "name": "stdin",
     "output_type": "stream",
     "text": [
      "enter a sentence hello world\n"
     ]
    },
    {
     "name": "stdout",
     "output_type": "stream",
     "text": [
      "a appeared 0 times\n",
      "e appeared 1 time\n",
      "i appeared 0 times\n",
      "o appeared 2 times\n",
      "u appeared 0 times\n"
     ]
    }
   ],
   "source": [
    "\n",
    "count_vowels()"
   ]
  },
  {
   "cell_type": "raw",
   "id": "89a00291-bf66-4fc8-96c7-1d95ea2a93c7",
   "metadata": {},
   "source": [
    "Task6:\n",
    "You need write a function that traces and makes a list of all such numbers\n",
    "from1000 to 3000 in which all the digits are even numbers"
   ]
  },
  {
   "cell_type": "code",
   "execution_count": 83,
   "id": "ad16e7a7-fc60-4dd5-9728-56627d898924",
   "metadata": {},
   "outputs": [],
   "source": [
    "def even_digits():\n",
    "    result=[]\n",
    "    for num in range(1000,3001):\n",
    "        if all(int(digit)%2==0 for digit in str(num)):\n",
    "            result.append(num)\n",
    "    return result"
   ]
  },
  {
   "cell_type": "code",
   "execution_count": 85,
   "id": "971cefd8-b67c-4583-9290-6b906f395279",
   "metadata": {},
   "outputs": [
    {
     "name": "stdout",
     "output_type": "stream",
     "text": [
      "[2000, 2002, 2004, 2006, 2008, 2020, 2022, 2024, 2026, 2028, 2040, 2042, 2044, 2046, 2048, 2060, 2062, 2064, 2066, 2068, 2080, 2082, 2084, 2086, 2088, 2200, 2202, 2204, 2206, 2208, 2220, 2222, 2224, 2226, 2228, 2240, 2242, 2244, 2246, 2248, 2260, 2262, 2264, 2266, 2268, 2280, 2282, 2284, 2286, 2288, 2400, 2402, 2404, 2406, 2408, 2420, 2422, 2424, 2426, 2428, 2440, 2442, 2444, 2446, 2448, 2460, 2462, 2464, 2466, 2468, 2480, 2482, 2484, 2486, 2488, 2600, 2602, 2604, 2606, 2608, 2620, 2622, 2624, 2626, 2628, 2640, 2642, 2644, 2646, 2648, 2660, 2662, 2664, 2666, 2668, 2680, 2682, 2684, 2686, 2688, 2800, 2802, 2804, 2806, 2808, 2820, 2822, 2824, 2826, 2828, 2840, 2842, 2844, 2846, 2848, 2860, 2862, 2864, 2866, 2868, 2880, 2882, 2884, 2886, 2888]\n"
     ]
    }
   ],
   "source": [
    "digits=even_digits()\n",
    "print(digits)"
   ]
  },
  {
   "cell_type": "raw",
   "id": "faf3528f-026e-45da-9025-71140fea33b8",
   "metadata": {},
   "source": [
    "Task7:\n",
    "You need to write a code which accepts a sequence of comma separated 4 digit\n",
    "binary numbers as its input and then check whether they are divisible by 5 or not.The numbers that are divisible by 5 are to be printed in a comma separated\n",
    "sequence.\n",
    "Example:\n",
    "0100,0011,1010,1001\n",
    "Then the output should be:\n",
    "1010 \n"
   ]
  },
  {
   "cell_type": "code",
   "execution_count": 1,
   "id": "c2402333-ed8d-40ee-bc2c-cd494d2f1311",
   "metadata": {},
   "outputs": [],
   "source": [
    "def divide_by_5():\n",
    "    binary_numbers=input('enter a four digit numbers')\n",
    "    divisible=[]\n",
    "    for bin_num in binary_numbers:\n",
    "        decimal_num=int(bin_num,2)\n",
    "        if decimal_num%5==0:\n",
    "            divisible.append(bin_num)\n",
    "    print(','.join(divisible))"
   ]
  },
  {
   "cell_type": "code",
   "execution_count": 3,
   "id": "a9b1b37e-ad92-4796-9bcc-1ec964a43026",
   "metadata": {},
   "outputs": [
    {
     "name": "stdin",
     "output_type": "stream",
     "text": [
      "enter a four digit numbers 1234\n"
     ]
    },
    {
     "ename": "ValueError",
     "evalue": "invalid literal for int() with base 2: '2'",
     "output_type": "error",
     "traceback": [
      "\u001b[1;31m---------------------------------------------------------------------------\u001b[0m",
      "\u001b[1;31mValueError\u001b[0m                                Traceback (most recent call last)",
      "Cell \u001b[1;32mIn[3], line 1\u001b[0m\n\u001b[1;32m----> 1\u001b[0m divide_by_5()\n",
      "Cell \u001b[1;32mIn[1], line 5\u001b[0m, in \u001b[0;36mdivide_by_5\u001b[1;34m()\u001b[0m\n\u001b[0;32m      3\u001b[0m divisible\u001b[38;5;241m=\u001b[39m[]\n\u001b[0;32m      4\u001b[0m \u001b[38;5;28;01mfor\u001b[39;00m bin_num \u001b[38;5;129;01min\u001b[39;00m binary_numbers:\n\u001b[1;32m----> 5\u001b[0m     decimal_num\u001b[38;5;241m=\u001b[39m\u001b[38;5;28mint\u001b[39m(bin_num,\u001b[38;5;241m2\u001b[39m)\n\u001b[0;32m      6\u001b[0m     \u001b[38;5;28;01mif\u001b[39;00m decimal_num\u001b[38;5;241m%\u001b[39m\u001b[38;5;241m5\u001b[39m\u001b[38;5;241m==\u001b[39m\u001b[38;5;241m0\u001b[39m:\n\u001b[0;32m      7\u001b[0m         divisible\u001b[38;5;241m.\u001b[39mappend(bin_num)\n",
      "\u001b[1;31mValueError\u001b[0m: invalid literal for int() with base 2: '2'"
     ]
    }
   ],
   "source": [
    "divide_by_5()"
   ]
  },
  {
   "cell_type": "raw",
   "id": "8d5fe54a-e713-450b-bb1f-c1c90836a09d",
   "metadata": {},
   "source": [
    "1. Write a Python function to find the maximum of three numbers."
   ]
  },
  {
   "cell_type": "code",
   "execution_count": 5,
   "id": "89081396-28d4-47e4-ab6c-6757a52837c0",
   "metadata": {},
   "outputs": [],
   "source": [
    "def max_num(n1,n2,n3):\n",
    "    return max(n1,n2,n3)"
   ]
  },
  {
   "cell_type": "code",
   "execution_count": 9,
   "id": "28cb02e1-4ed9-4756-9fd0-a492a2a529dd",
   "metadata": {},
   "outputs": [
    {
     "data": {
      "text/plain": [
       "78"
      ]
     },
     "execution_count": 9,
     "metadata": {},
     "output_type": "execute_result"
    }
   ],
   "source": [
    "max_num(34,78,60)"
   ]
  },
  {
   "cell_type": "raw",
   "id": "30afe0d9-c7dd-45dd-b113-136dc1b2a0ac",
   "metadata": {},
   "source": [
    "2. Write a Python function to sum all the numbers in a list.\n",
    "Sample List : (8, 2, 3, 0, 7)\n",
    "Expected Output : 20"
   ]
  },
  {
   "cell_type": "code",
   "execution_count": 37,
   "id": "a56641a5-58d7-47c6-8412-4b196757748d",
   "metadata": {},
   "outputs": [],
   "source": [
    "def sum_numbers(numbers):\n",
    "    return sum(numbers)"
   ]
  },
  {
   "cell_type": "code",
   "execution_count": 41,
   "id": "7208b53d-11f0-4573-87ef-1d441272b8e2",
   "metadata": {},
   "outputs": [
    {
     "data": {
      "text/plain": [
       "6"
      ]
     },
     "execution_count": 41,
     "metadata": {},
     "output_type": "execute_result"
    }
   ],
   "source": [
    "sum_numbers([1,2,3])"
   ]
  },
  {
   "cell_type": "raw",
   "id": "c940edb5-5d6e-410d-ba9e-89cd668f931c",
   "metadata": {},
   "source": [
    "3. Write a Python function to multiply all the numbers in a list.\n",
    "Sample List : (8, 2, 3, -1, 7)\n",
    "Expected Output : -336"
   ]
  },
  {
   "cell_type": "code",
   "execution_count": 1,
   "id": "3bb0ac83-1420-4a7f-bdd2-6b803ec89797",
   "metadata": {},
   "outputs": [],
   "source": [
    "import math\n",
    "def multiply(numbers):\n",
    "    return math.prod(numbers)\n",
    "    \n",
    "    "
   ]
  },
  {
   "cell_type": "code",
   "execution_count": 7,
   "id": "f00f7a7e-6539-4ef2-b41b-b8825ec7f0d1",
   "metadata": {},
   "outputs": [
    {
     "data": {
      "text/plain": [
       "-336"
      ]
     },
     "execution_count": 7,
     "metadata": {},
     "output_type": "execute_result"
    }
   ],
   "source": [
    "multiply([8,2,3,-1,7])"
   ]
  },
  {
   "cell_type": "raw",
   "id": "919bc157-5fbb-466c-a2dd-121f4bdd9e24",
   "metadata": {},
   "source": [
    "4. Write a Python program to reverse a string.\n",
    "Sample String : \"1234abcd\"\n",
    "Expected Output : \"dcba4321\""
   ]
  },
  {
   "cell_type": "code",
   "execution_count": 9,
   "id": "9c1e7d6b-cec8-43d9-90f0-ef8467729a6b",
   "metadata": {},
   "outputs": [],
   "source": [
    "def reve(string):\n",
    "    return string[::-1]\n"
   ]
  },
  {
   "cell_type": "code",
   "execution_count": 11,
   "id": "0b3096ba-e679-42c6-aa73-78ebb1b80b3c",
   "metadata": {},
   "outputs": [
    {
     "data": {
      "text/plain": [
       "'dcba4321'"
      ]
     },
     "execution_count": 11,
     "metadata": {},
     "output_type": "execute_result"
    }
   ],
   "source": [
    "reve('1234abcd')"
   ]
  },
  {
   "cell_type": "raw",
   "id": "b50f8d55-5e2b-4034-835e-496438ec65d0",
   "metadata": {},
   "source": [
    "5. Write a Python function to calculate the factorial of a number (a non-negative integer). The function accepts the number as an argument."
   ]
  },
  {
   "cell_type": "code",
   "execution_count": 29,
   "id": "1b1e06c6-9458-4425-8a16-b0cba3d4dff5",
   "metadata": {},
   "outputs": [],
   "source": [
    "def factorial(number):\n",
    "    fact=1\n",
    "    for i in range(1,number+1):\n",
    "        fact=fact*i\n",
    "    return fact"
   ]
  },
  {
   "cell_type": "code",
   "execution_count": 33,
   "id": "26e71672-1299-4076-bc2d-0bcfb33c10d2",
   "metadata": {},
   "outputs": [
    {
     "data": {
      "text/plain": [
       "120"
      ]
     },
     "execution_count": 33,
     "metadata": {},
     "output_type": "execute_result"
    }
   ],
   "source": [
    "factorial(5)"
   ]
  },
  {
   "cell_type": "raw",
   "id": "05bc0151-603e-4530-92c9-d707b537c4f4",
   "metadata": {},
   "source": [
    "6. Write a Python function to check whether a number falls within a given range."
   ]
  },
  {
   "cell_type": "code",
   "execution_count": 39,
   "id": "b3ce4715-a7b9-4989-a9bb-5791167fa1f5",
   "metadata": {},
   "outputs": [],
   "source": [
    "def is_in_range(number,start,end):\n",
    "    if start<=number<=end:\n",
    "        return True\n",
    "    else:\n",
    "        return False"
   ]
  },
  {
   "cell_type": "code",
   "execution_count": 43,
   "id": "533df4f6-b746-42ba-882b-62e03336bc94",
   "metadata": {},
   "outputs": [
    {
     "data": {
      "text/plain": [
       "False"
      ]
     },
     "execution_count": 43,
     "metadata": {},
     "output_type": "execute_result"
    }
   ],
   "source": [
    "is_in_range(1,10,20)"
   ]
  },
  {
   "cell_type": "raw",
   "id": "e9e630b5-93f9-438d-83c5-4338afe8ba1f",
   "metadata": {},
   "source": [
    "7. Write a Python function that accepts a string and counts the number of upper and lower case letters.\n",
    "Sample String : 'The quick Brow Fox'\n",
    "Expected Output :\n",
    "No. of Upper case characters : 3\n",
    "No. of Lower case Characters : 12"
   ]
  },
  {
   "cell_type": "code",
   "execution_count": 11,
   "id": "b89de089-e511-4100-a06f-3be35d6db813",
   "metadata": {},
   "outputs": [],
   "source": [
    "def count_case(string):\n",
    "    upper_count = sum(1 for char in string if char.isupper())\n",
    "    lower_count = sum(1 for char in string if char.islower())\n",
    "    return upper_count, lower_count"
   ]
  },
  {
   "cell_type": "code",
   "execution_count": 13,
   "id": "45e8354a-1cb3-4cf2-a53c-f4e3e778a5e6",
   "metadata": {},
   "outputs": [
    {
     "data": {
      "text/plain": [
       "(2, 5)"
      ]
     },
     "execution_count": 13,
     "metadata": {},
     "output_type": "execute_result"
    }
   ],
   "source": [
    "count_case('I am Tall')"
   ]
  },
  {
   "cell_type": "raw",
   "id": "d24a8a57-8258-41b5-a24b-bbe46b3044fe",
   "metadata": {},
   "source": [
    "write a python function that takes a list and return alist with distinct elements from the list\n",
    "sample list[1,2,2,3,3,3,4,5]\n",
    "nwe list=[1,2,3,4,5]"
   ]
  },
  {
   "cell_type": "code",
   "execution_count": 13,
   "id": "7ee354d0-46e6-472e-bb18-b11ca2dbeab4",
   "metadata": {},
   "outputs": [],
   "source": [
    "def alist(input_list):\n",
    "    return list(set(input_list))\n",
    "    \n",
    "    "
   ]
  },
  {
   "cell_type": "code",
   "execution_count": 15,
   "id": "48e98f80-27ea-485c-9bcd-fc1ad9f70a76",
   "metadata": {},
   "outputs": [
    {
     "data": {
      "text/plain": [
       "[1, 2, 3, 4, 5]"
      ]
     },
     "execution_count": 15,
     "metadata": {},
     "output_type": "execute_result"
    }
   ],
   "source": [
    "alist([1,2,2,3,3,3,4,5])"
   ]
  },
  {
   "cell_type": "raw",
   "id": "2ff1b0c0-6b2a-4e2b-9a90-18a326b7a8ce",
   "metadata": {},
   "source": [
    "9. Write a Python function that takes a number as a parameter and checks\n",
    "whether the number is prime or not.\n",
    "Note : A prime number (or a prime) is a natural number greater than 1 and that\n",
    "has no positive divisors other than 1 and itself."
   ]
  },
  {
   "cell_type": "code",
   "execution_count": 13,
   "id": "8128e2ca-d08d-486a-b22c-2bba136919d2",
   "metadata": {},
   "outputs": [],
   "source": [
    "def isprime(number):\n",
    "    number=int(input('enter your number'))\n",
    "    for i in range(2,number):\n",
    "        if number%i==0:\n",
    "            print('not prime')\n",
    "            break\n",
    "    else:\n",
    "        print('prime')"
   ]
  },
  {
   "cell_type": "code",
   "execution_count": 17,
   "id": "67da685b-a5a0-4761-ac23-f73ff31a28b2",
   "metadata": {},
   "outputs": [
    {
     "name": "stdin",
     "output_type": "stream",
     "text": [
      "enter your number 5\n"
     ]
    },
    {
     "name": "stdout",
     "output_type": "stream",
     "text": [
      "prime\n"
     ]
    }
   ],
   "source": [
    "isprime(number)"
   ]
  },
  {
   "cell_type": "raw",
   "id": "618c580d-c1e2-4e01-a404-40ec505560a0",
   "metadata": {},
   "source": [
    "10. Write a Python program to print the even numbers from a given list.\n",
    "Sample List : [1, 2, 3, 4, 5, 6, 7, 8, 9]\n",
    "Expected Result : [2, 4, 6, 8]"
   ]
  },
  {
   "cell_type": "code",
   "execution_count": 38,
   "id": "4bbfdeae-3b9c-402c-91a1-2d54deaff92e",
   "metadata": {},
   "outputs": [],
   "source": [
    "def evennumbers(sample_list):\n",
    "    even=[num for num in sample_list if num%2==0]\n",
    "    return even\n",
    "    \n"
   ]
  },
  {
   "cell_type": "code",
   "execution_count": 40,
   "id": "3cb2855f-5fb1-4da5-974f-ceb3510c9c98",
   "metadata": {},
   "outputs": [
    {
     "data": {
      "text/plain": [
       "[2, 4, 6]"
      ]
     },
     "execution_count": 40,
     "metadata": {},
     "output_type": "execute_result"
    }
   ],
   "source": [
    "evennumbers([1,2,3,4,5,6])"
   ]
  },
  {
   "cell_type": "raw",
   "id": "cf142555-0749-4c75-b95d-2d0a5601295a",
   "metadata": {},
   "source": [
    "12. Write a Python function that checks whether a passed string is a palindromeor not.\n",
    "Note: A palindrome is a word, phrase, or sequence that reads the same backward\n",
    "as forward, e.g., madam or nurses run."
   ]
  },
  {
   "cell_type": "code",
   "execution_count": 1,
   "id": "e21b327d-9545-45bb-b8f4-180ad4c2b509",
   "metadata": {},
   "outputs": [],
   "source": [
    "def is_palindrome(word):\n",
    "    word=input('enter your word')\n",
    "    if word[::-1]==word:\n",
    "        return 'palindrome'\n",
    "    else:\n",
    "        return 'not palindrome'\n",
    "        \n",
    "    \n",
    "    "
   ]
  },
  {
   "cell_type": "code",
   "execution_count": 19,
   "id": "1133f7f8-9e66-454f-9022-e6adbcdb0d73",
   "metadata": {},
   "outputs": [
    {
     "name": "stdin",
     "output_type": "stream",
     "text": [
      "enter your word madam\n"
     ]
    },
    {
     "data": {
      "text/plain": [
       "'palindrome'"
      ]
     },
     "execution_count": 19,
     "metadata": {},
     "output_type": "execute_result"
    }
   ],
   "source": [
    "is_palindrome(['word'])"
   ]
  },
  {
   "cell_type": "raw",
   "id": "586cabef-e940-4a7b-b088-27299d713a07",
   "metadata": {},
   "source": [
    "11. Write a Python function to check whether a number is \"Perfect\" or not.\n",
    "According to Wikipedia : In number theory, a perfect number is a positive integer that is equal to the sum of its proper positive divisors, that is, the sum of its positive divisors excluding the number itself (also known as its aliquot sum).Equivalently, a perfect number is a number that is half the sum of all of itspositive divisors (including itself).\n",
    "Example : The first perfect number is 6, because 1, 2, and 3 are its proper positive\n",
    "divisors, and 1 + 2 + 3 = 6. Equivalently, the number 6 is equal to half the sum of\n",
    "all its positive divisors: ( 1 + 2 + 3 + 6 ) / 2 = 6. The next perfect number is 28 = 1 +2 + 4 + 7 + 14. This is followed by the perfect numbers 496 and 8128.\n"
   ]
  },
  {
   "cell_type": "code",
   "execution_count": 42,
   "id": "a3d30f91-96fd-474c-8934-f01c3054ca1f",
   "metadata": {},
   "outputs": [
    {
     "name": "stdin",
     "output_type": "stream",
     "text": [
      "enter your number 496\n"
     ]
    },
    {
     "name": "stdout",
     "output_type": "stream",
     "text": [
      "496 is a perfect number\n"
     ]
    }
   ],
   "source": [
    "n=int(input('enter your number'))\n",
    "sum=0\n",
    "for i in range(1,n):\n",
    "    if n%i==0:\n",
    "        sum=sum+i\n",
    "if sum==n:\n",
    "    print(n,'is a perfect number')\n",
    "else:\n",
    "    print(n,'is not a perfect number')"
   ]
  },
  {
   "cell_type": "code",
   "execution_count": null,
   "id": "bdccf3a4-c492-4105-a93d-5964e89bf25f",
   "metadata": {},
   "outputs": [],
   "source": []
  },
  {
   "cell_type": "code",
   "execution_count": null,
   "id": "f30545aa-63e5-4142-bb54-53e6aad5de6a",
   "metadata": {},
   "outputs": [],
   "source": []
  }
 ],
 "metadata": {
  "kernelspec": {
   "display_name": "Python 3 (ipykernel)",
   "language": "python",
   "name": "python3"
  },
  "language_info": {
   "codemirror_mode": {
    "name": "ipython",
    "version": 3
   },
   "file_extension": ".py",
   "mimetype": "text/x-python",
   "name": "python",
   "nbconvert_exporter": "python",
   "pygments_lexer": "ipython3",
   "version": "3.12.7"
  }
 },
 "nbformat": 4,
 "nbformat_minor": 5
}

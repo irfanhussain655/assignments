{
 "cells": [
  {
   "cell_type": "code",
   "execution_count": 3,
   "id": "147bf28f-2716-4ba2-ae82-eaabe7e3a713",
   "metadata": {},
   "outputs": [
    {
     "name": "stdin",
     "output_type": "stream",
     "text": [
      "enter the amount 500\n"
     ]
    },
    {
     "name": "stdout",
     "output_type": "stream",
     "text": [
      "\n",
      "            your total price is 500\n",
      "            your discount is 75.0\n",
      "             your discounted price is 425.0\n"
     ]
    }
   ],
   "source": [
    "# write a python programme to check if a customer is eligible for a\n",
    "# discount. if the total purchase is more than 100 dollars apply a\n",
    "#10% discount and display the final price oherwis the total price as it\n",
    "dollar=int(input('enter the amount'))\n",
    "if dollar>=100:\n",
    "    discount=dollar*0.10\n",
    "    print(f\"\"\"\n",
    "            your total price is ${dollar}\n",
    "            your discount is ${discount}\n",
    "             your discounted price is ${dollar-discount}\"\"\")\n",
    "else:\n",
    "    print(f'your total amount is ${dollar}')"
   ]
  },
  {
   "cell_type": "code",
   "execution_count": 37,
   "id": "1bdf7915-26a5-463c-8b7c-16c10ecc3194",
   "metadata": {},
   "outputs": [
    {
     "name": "stdin",
     "output_type": "stream",
     "text": [
      "enter your items purchased 6\n",
      "enter your price 500\n"
     ]
    },
    {
     "name": "stdout",
     "output_type": "stream",
     "text": [
      "\n",
      "            items:6\n",
      "            price:500\n",
      "            total_price:3000\n",
      "            discount:75.0\n",
      "            after_discount2925.0\n"
     ]
    }
   ],
   "source": [
    "# if a customer buys more than 5 items  apply a 15% discount on the\n",
    "# total price otherwise no discounted is applied display the total\n",
    "# price.\n",
    "items=int(input('enter your items purchased'))\n",
    "price=int(input('enter your price'))\n",
    "total_price=items*price\n",
    "if items>5:\n",
    "    discount=price*0.15\n",
    "    after_discount=total_price-discount\n",
    "    print(f\"\"\"\n",
    "            items:{items}\n",
    "            price:{price}\n",
    "            total_price:{total_price}\n",
    "            discount:{discount}\n",
    "            after_discount{after_discount}\"\"\")\n"
   ]
  },
  {
   "cell_type": "code",
   "execution_count": 11,
   "id": "9dbeef66-3471-47eb-b4ef-e0072edef7da",
   "metadata": {},
   "outputs": [
    {
     "name": "stdin",
     "output_type": "stream",
     "text": [
      "enter your name z\n"
     ]
    },
    {
     "name": "stdout",
     "output_type": "stream",
     "text": [
      "you will get only 5% discount\n"
     ]
    }
   ],
   "source": [
    "# check if the customer is a member (is member=true),member gets a20%\n",
    "# discount non members gets a 5% discount calculate and \n",
    "#  print the discounnted price.\n",
    "member=['a','b','c','d','e']\n",
    "name=input('enter your name')\n",
    "if name is  member:\n",
    "    print(f\" you will get 15% discount\")\n",
    "else:\n",
    "    print(f'you will get only 5% discount')\n"
   ]
  },
  {
   "cell_type": "code",
   "execution_count": 19,
   "id": "6f91c35e-3303-4e8f-ae4d-d26743cb5e8e",
   "metadata": {},
   "outputs": [
    {
     "name": "stdin",
     "output_type": "stream",
     "text": [
      "enter your day sunday\n"
     ]
    },
    {
     "name": "stdout",
     "output_type": "stream",
     "text": [
      "you will get just 10% discount\n"
     ]
    }
   ],
   "source": [
    "# if today is holiday (is holiday=true) apply 25%discount otherwise\n",
    "#apply a 10% discount.calculate the price after discount.\n",
    "today=input('enter your day')\n",
    "holiday=['sunday','saturday']\n",
    "if today==holiday:\n",
    "    print('you will get 15% discount')\n",
    "else:\n",
    "    print('you will get just 10% discount')"
   ]
  },
  {
   "cell_type": "code",
   "execution_count": 23,
   "id": "fd1efe94-3db8-4a56-a11c-d70c5043b96d",
   "metadata": {},
   "outputs": [
    {
     "name": "stdin",
     "output_type": "stream",
     "text": [
      "enter your items 10\n"
     ]
    },
    {
     "name": "stdout",
     "output_type": "stream",
     "text": [
      "amount will be half of them\n"
     ]
    }
   ],
   "source": [
    "# if a customer buys an even number of items they get half of them for\n",
    "#free otherwise they pay for all.calculate the number of items \n",
    "#the customer has to pay for.\n",
    "items=int(input('enter your items'))\n",
    "if items%2==0:\n",
    "    print(f'amount will be half of them')\n",
    "else:\n",
    "    print('amount is full')"
   ]
  },
  {
   "cell_type": "code",
   "execution_count": 51,
   "id": "ca60ff8e-9957-4f8c-9731-6f17f409caca",
   "metadata": {},
   "outputs": [
    {
     "name": "stdin",
     "output_type": "stream",
     "text": [
      "enter your number 456\n"
     ]
    },
    {
     "name": "stdout",
     "output_type": "stream",
     "text": [
      "\n",
      "       your amount456\n",
      "       amount after tax 370.95\n"
     ]
    }
   ],
   "source": [
    "# if the price of an item is greater than 500 apply the luxurytaxof15%\n",
    "#other wise apply the common tax of 8% display the totalpriceafter \n",
    "#the tax.\n",
    "item=int(input('enter your number'))\n",
    "if item>=500:\n",
    "    tax=item*0.15\n",
    "    print(f\"\"\"\n",
    "    total amount{item}\n",
    "    price afper tax{item-tax}\"\"\")\n",
    "elif tax<500:\n",
    "    print(f\"\"\"\n",
    "       your amount{item}\n",
    "       amount after tax {item-tax}\"\"\")"
   ]
  },
  {
   "cell_type": "code",
   "execution_count": 55,
   "id": "d1d18da4-dac6-4882-b619-77d2ae48955f",
   "metadata": {},
   "outputs": [
    {
     "name": "stdin",
     "output_type": "stream",
     "text": [
      "enter your number 40000\n"
     ]
    },
    {
     "name": "stdout",
     "output_type": "stream",
     "text": [
      "\n",
      "       your income 40000\n",
      "       total after tax 36000.0\n"
     ]
    }
   ],
   "source": [
    "# if a person's annual income is above 50,000 they pay 20% tax \n",
    "#otherwise they pay 10% .calculate and display the amount\n",
    "income=int(input('enter your number'))\n",
    "if income>=50000:\n",
    "    tax=income*0.20\n",
    "elif income<50000:\n",
    "    tax=income*0.10\n",
    "print(f\"\"\"\n",
    "       your income {income}\n",
    "       total after tax {income-tax}\"\"\")"
   ]
  },
  {
   "cell_type": "code",
   "execution_count": 57,
   "id": "9a5a0245-fcc5-4433-825c-0678b6d82066",
   "metadata": {},
   "outputs": [
    {
     "name": "stdin",
     "output_type": "stream",
     "text": [
      "enter your number 100000\n"
     ]
    },
    {
     "name": "stdout",
     "output_type": "stream",
     "text": [
      "100000 is high tax\n"
     ]
    }
   ],
   "source": [
    "# write a programme to categorize a person into tax brackets\n",
    "#income<30000 low tax\n",
    "#30000<= income<100000 medium tax\n",
    "#income>=100000 high tax\n",
    "amount=int(input('enter your number'))\n",
    "if amount<30000:\n",
    "    print(f'{amount} which is low tax')\n",
    "elif 30000>=amount<100000:\n",
    "    print(f'{amount} amount is medium tax')\n",
    "elif amount>=100000:\n",
    "    print(f'{amount} is high tax')\n",
    "    \n"
   ]
  },
  {
   "cell_type": "code",
   "execution_count": 39,
   "id": "1efe3600-787b-4ca6-ac51-d549b664cad3",
   "metadata": {},
   "outputs": [],
   "source": [
    "#9) if the item is marked as essential (taxfree=true) ,apply a vVAt \n",
    "# of 5% otherwise apply the VAt of 12% ,display the final price\n"
   ]
  },
  {
   "cell_type": "code",
   "execution_count": 43,
   "id": "c127bbb4-0b85-477c-b853-cebaa185afa3",
   "metadata": {},
   "outputs": [
    {
     "name": "stdin",
     "output_type": "stream",
     "text": [
      "enter the amount 45\n"
     ]
    },
    {
     "name": "stdout",
     "output_type": "stream",
     "text": [
      "the final price is: 2.25\n"
     ]
    }
   ],
   "source": [
    "item_price=int(input('enter the amount'))\n",
    "taxfree=True\n",
    "if taxfree:\n",
    "    vat_rate=0.05\n",
    "else:\n",
    "    vat_rate=0.12\n",
    "final_price=item_price*vat_rate\n",
    "print(f'the final price is: {final_price}')"
   ]
  },
  {
   "cell_type": "code",
   "execution_count": 1,
   "id": "f6a1d180-8b56-4da1-98ad-b7d18914d70f",
   "metadata": {},
   "outputs": [],
   "source": [
    "#11)f today is a tax free day(tax free=true) display the original price\n",
    "#otherwise add a 7% tax"
   ]
  },
  {
   "cell_type": "code",
   "execution_count": 51,
   "id": "2266658c-d8f8-4fdf-8ecb-c9aaeee0ed42",
   "metadata": {},
   "outputs": [
    {
     "name": "stdin",
     "output_type": "stream",
     "text": [
      "enter your price 455\n"
     ]
    },
    {
     "name": "stdout",
     "output_type": "stream",
     "text": [
      "today is tax free day and price is 455\n",
      "today is not tax free and tax is 455.00\n"
     ]
    }
   ],
   "source": [
    "price=int(input('enter your price'))\n",
    "tax_free=True\n",
    "if tax_free:\n",
    "    final_price=price\n",
    "    print(f\"today is tax free day and price is {final_price}\")\n",
    "else:\n",
    "    tax=0.07\n",
    "    final_price=price*0.07\n",
    "print(f'today is not tax free and tax is {final_price:.2f}')"
   ]
  },
  {
   "cell_type": "raw",
   "id": "e1bcd1ce-a1a6-440c-ab2b-5e46722af1de",
   "metadata": {},
   "source": [
    "Discount Code\n",
    "If a customer enters the correct discount code (DISCOUNT10), apply a 10% discount.\n",
    "Otherwise, charge the full amount."
   ]
  },
  {
   "cell_type": "code",
   "execution_count": null,
   "id": "a4ced8b6-5109-4565-90c6-a5f3c0896ee8",
   "metadata": {},
   "outputs": [],
   "source": []
  },
  {
   "cell_type": "code",
   "execution_count": 14,
   "id": "acd0f7ed-28f2-4acd-b268-5499c6aef00c",
   "metadata": {},
   "outputs": [
    {
     "name": "stdin",
     "output_type": "stream",
     "text": [
      "enter your ampount 10\n"
     ]
    },
    {
     "name": "stdout",
     "output_type": "stream",
     "text": [
      "pay full amount\n"
     ]
    }
   ],
   "source": [
    "customer_discount=input('enter your amount')\n",
    "if customer_discount==10:\n",
    "    print('discount 10%')\n",
    "else:\n",
    "    print('pay full amount')"
   ]
  },
  {
   "cell_type": "raw",
   "id": "afb48a16-5bac-4135-9092-c2b575eb1dfd",
   "metadata": {},
   "source": [
    "13. Tiered Discounts\n",
    "Apply discounts based on the total price:\n",
    " $0–$50: No discount.\n",
    " $50–$100: 10% discount.\n",
    " Over $100: 20% discount."
   ]
  },
  {
   "cell_type": "code",
   "execution_count": 20,
   "id": "6d4e2f6c-0b3f-4d39-8a8a-19acf5655a3b",
   "metadata": {},
   "outputs": [
    {
     "name": "stdin",
     "output_type": "stream",
     "text": [
      "enter your amount 800\n"
     ]
    },
    {
     "name": "stdout",
     "output_type": "stream",
     "text": [
      "20% discount\n"
     ]
    }
   ],
   "source": [
    "price=int(input('enter your amount'))\n",
    "if price>0 and price<50:\n",
    "    print('no discount')\n",
    "elif price>50 and price<100:\n",
    "    print('there is 10% discount')\n",
    "elif price>100:\n",
    "    print('20% discount')\n",
    "else:\n",
    "    print('plz pay full amount')\n",
    "    "
   ]
  },
  {
   "cell_type": "raw",
   "id": "46a52566-6451-4185-b030-4d6f7afd6d4e",
   "metadata": {},
   "source": [
    "14. Minimum Purchase Requirement\n",
    "If the total amount is less than $20, display a message:;Minimum purchase of $20 is\n",
    "required.Otherwise, display the total amount."
   ]
  },
  {
   "cell_type": "code",
   "execution_count": 63,
   "id": "a9e6940f-9147-42ca-b412-ac60e293b41c",
   "metadata": {},
   "outputs": [
    {
     "name": "stdin",
     "output_type": "stream",
     "text": [
      "enter your amount 19\n"
     ]
    },
    {
     "name": "stdout",
     "output_type": "stream",
     "text": [
      "minimum purchase of 20% is required\n"
     ]
    }
   ],
   "source": [
    "amount=int(input('enter your amount'))\n",
    "if amount<20:\n",
    "    print('minimum purchase of 20% is required')\n",
    "else:\n",
    "    print(f'total amount {amount}')"
   ]
  },
  {
   "cell_type": "raw",
   "id": "bbc38671-b193-472d-8637-89f613da042d",
   "metadata": {},
   "source": [
    "15. Loyalty Points\n",
    "If a customer is a loyal member (is_loyal = True), they earn double loyalty points for\n",
    "their purchase. Otherwise, they earn standard points.  \n"
   ]
  },
  {
   "cell_type": "code",
   "execution_count": 57,
   "id": "268cb073-f219-4255-90b9-ba8db7af6097",
   "metadata": {},
   "outputs": [
    {
     "name": "stdout",
     "output_type": "stream",
     "text": [
      "the customer earned 200 loyal points\n"
     ]
    }
   ],
   "source": [
    "purchase_amount=100\n",
    "points_per_dollar=1\n",
    "is_loyal=True\n",
    "if is_loyal==True:\n",
    "    loyal_points=purchase_amount*(2*points_per_dollar)\n",
    "else:\n",
    "    loyal_points=purchase_amount*points_per_dollar\n",
    "print(f'the customer earned {loyal_points} loyal points')\n"
   ]
  },
  {
   "cell_type": "raw",
   "id": "2ad6cf03-5c7f-491b-9e81-36a533087bc1",
   "metadata": {},
   "source": [
    "16. Travel Discount\n",
    "If a person is traveling more than 500 miles, offer a 20% discount on ticket price.\n",
    " Otherwise, charge the full amount. \n"
   ]
  },
  {
   "cell_type": "code",
   "execution_count": 49,
   "id": "c7147236-0088-4206-871d-872561e54db7",
   "metadata": {},
   "outputs": [
    {
     "name": "stdin",
     "output_type": "stream",
     "text": [
      "enter the mile 700\n"
     ]
    },
    {
     "name": "stdout",
     "output_type": "stream",
     "text": [
      "\n",
      "            total mile:700\n",
      "            total discount140.0\n",
      "            total amount after discount is560.0\n"
     ]
    }
   ],
   "source": [
    "mile=int(input('enter the mile'))\n",
    "if mile>=500:\n",
    "    discount=mile*0.20\n",
    "    print(f\"\"\"\n",
    "            total mile:{mile}\n",
    "            total discount{discount}\n",
    "            total amount after discount is{mile-discount}\"\"\")\n",
    "else:\n",
    "    print('full amount')\n",
    "    "
   ]
  },
  {
   "cell_type": "raw",
   "id": "d49dea30-03c1-40df-92c1-3bf1fcf76347",
   "metadata": {},
   "source": [
    "17. Child or Senior Discount\n",
    "If a passenger is under 12 or over 60 years old, apply a 15% discount on the ticket price.\n",
    "Otherwise, charge the full price."
   ]
  },
  {
   "cell_type": "code",
   "execution_count": 67,
   "id": "1b99d84b-eb6d-4e4a-b3fc-5917962c4f82",
   "metadata": {},
   "outputs": [
    {
     "name": "stdin",
     "output_type": "stream",
     "text": [
      "enter your ticket 1\n",
      "enter your age 2\n"
     ]
    },
    {
     "name": "stdout",
     "output_type": "stream",
     "text": [
      "\n",
      "            ticket:1.0\n",
      "            age:2.0\n",
      "            discount:0.15\n",
      "            total amount0.85\n"
     ]
    }
   ],
   "source": [
    "ticket=float(input('enter your ticket'))\n",
    "age=float(input('enter your age'))\n",
    "if age<12 or age>60:\n",
    "    discount=ticket*0.15\n",
    "    print(f\"\"\"\n",
    "            ticket:{ticket}\n",
    "            age:{age}\n",
    "            discount:{discount}\n",
    "            total amount{ticket-discount}\"\"\")\n",
    "else:\n",
    "    print('charge the full price')"
   ]
  },
  {
   "cell_type": "raw",
   "id": "9f34349f-1159-4047-98b6-bb7e5e0240d3",
   "metadata": {},
   "source": [
    "18. Ticket Type Pricing\n",
    "If the ticket is for a weekend (is_weekend = True), add a 10% surcharge. Otherwise,\n",
    "charge the standard price."
   ]
  },
  {
   "cell_type": "code",
   "execution_count": 71,
   "id": "cdfb2192-c596-4222-80fc-9f92abddb083",
   "metadata": {},
   "outputs": [
    {
     "name": "stdin",
     "output_type": "stream",
     "text": [
      "enter amount 3456\n"
     ]
    },
    {
     "name": "stdout",
     "output_type": "stream",
     "text": [
      "the price is 345.6\n"
     ]
    }
   ],
   "source": [
    "ticket=int(input('enter amount'))\n",
    "is_weekend=True\n",
    "if is_weekend:\n",
    "    rate=0.10\n",
    "    price=ticket*0.10\n",
    "    print(f'the price is {price}')\n",
    "else:\n",
    "    print(f'the standard ticket is {ticket:.1f}')"
   ]
  },
  {
   "cell_type": "raw",
   "id": "fbdf0ceb-4a2b-415d-a162-7eb3a95ea342",
   "metadata": {},
   "source": [
    "19. Baggage Fee If the total baggage weight is over 20kg, charge $10 per extra kilogram. Otherwise, no extra fee."
   ]
  },
  {
   "cell_type": "code",
   "execution_count": 57,
   "id": "6abe8bac-9a86-4643-89b4-63fbcb450374",
   "metadata": {},
   "outputs": [
    {
     "name": "stdin",
     "output_type": "stream",
     "text": [
      "enter the weight 44\n"
     ]
    },
    {
     "name": "stdout",
     "output_type": "stream",
     "text": [
      "total charge is 39.6\n"
     ]
    }
   ],
   "source": [
    "weight=int(input('enter the weight'))\n",
    "if weight>20:\n",
    "    charge=weight*0.10\n",
    "    total=weight-charge\n",
    "    print(f'total charge is {total}')\n",
    "else:\n",
    "    print('no extra fee')"
   ]
  },
  {
   "cell_type": "raw",
   "id": "fe1cc16b-305d-4956-95a8-9c03e70e732a",
   "metadata": {},
   "source": [
    "20. Early Bird Discount If a ticket is booked more than 30 days in advance, apply a 10% discount. Otherwise, charge the full price."
   ]
  },
  {
   "cell_type": "code",
   "execution_count": 63,
   "id": "9d5fb65e-ee0d-47c9-83e9-eb69c16598eb",
   "metadata": {},
   "outputs": [
    {
     "name": "stdin",
     "output_type": "stream",
     "text": [
      "enter the ticket 32\n",
      "enter your amount 50000\n"
     ]
    },
    {
     "name": "stdout",
     "output_type": "stream",
     "text": [
      "total charge is 45000.0\n"
     ]
    }
   ],
   "source": [
    "ticket=int(input('enter the ticket'))\n",
    "amount=int(input('enter your amount'))\n",
    "if ticket>30:\n",
    "    charge=amount*0.10\n",
    "    print(f'total charge is {amount-charge}')\n",
    "else:\n",
    "    print('full price')"
   ]
  },
  {
   "cell_type": "raw",
   "id": "7b0b23a8-f170-4bdf-9240-0c06efd337be",
   "metadata": {},
   "source": [
    "21. Pass or Fail\n",
    "If a student scores 40 or more, print &quot;Pass&quot;. Otherwise, print &quot;Fail&quot;."
   ]
  },
  {
   "cell_type": "code",
   "execution_count": 67,
   "id": "24b1d98f-3e31-4cd7-ace7-6447a8d7135c",
   "metadata": {},
   "outputs": [
    {
     "name": "stdin",
     "output_type": "stream",
     "text": [
      "enter numbers 90\n"
     ]
    },
    {
     "name": "stdout",
     "output_type": "stream",
     "text": [
      "passs\n"
     ]
    }
   ],
   "source": [
    "number=int(input('enter numbers'))\n",
    "if number>=40:\n",
    "    print('passs')\n",
    "else:\n",
    "    print('fail')"
   ]
  },
  {
   "cell_type": "raw",
   "id": "b6340a4c-6e32-4cc5-bdfa-c5451b7b84ed",
   "metadata": {},
   "source": [
    "22. Grade Assignment\n",
    "Based on a student&#39;s score, assign grades:\n",
    " 90 and above: &quot;A&quot;\n",
    " 75–89: &quot;B&quot;\n",
    " 50–74: &quot;C&quot;\n",
    " Below 50: &quot;F&quot;"
   ]
  },
  {
   "cell_type": "code",
   "execution_count": 7,
   "id": "b7dea215-7920-4d97-a05d-00db8b5411bb",
   "metadata": {},
   "outputs": [
    {
     "name": "stdin",
     "output_type": "stream",
     "text": [
      "enter numbers 90\n"
     ]
    },
    {
     "name": "stdout",
     "output_type": "stream",
     "text": [
      "the students grade is A\n"
     ]
    }
   ],
   "source": [
    "number=int(input('enter numbers'))\n",
    "grade=None\n",
    "if number>=90:\n",
    "    grade='A'\n",
    "elif number>75 and number < 89:\n",
    "    grade='B'\n",
    "elif number>50 and number <74:\n",
    "    grade='C'\n",
    "elif number<50:\n",
    "    grade='fail'\n",
    "print(f'the students grade is {grade}')\n",
    "\n",
    "    \n",
    "\n",
    "\n"
   ]
  },
  {
   "cell_type": "raw",
   "id": "4906e7b9-168e-48fc-9065-f784f68754ea",
   "metadata": {},
   "source": [
    "23. Bonus Marks\n",
    "If a student completes all assignments, add 5 bonus marks to their score. Otherwise, nobonus marks."
   ]
  },
  {
   "cell_type": "code",
   "execution_count": 19,
   "id": "013910ca-75ec-448d-9f6c-d661a4699803",
   "metadata": {},
   "outputs": [
    {
     "name": "stdout",
     "output_type": "stream",
     "text": [
      "the students final score is 85\n"
     ]
    }
   ],
   "source": [
    "score=80\n",
    "comp_all_assig=True\n",
    "if comp_all_assig:\n",
    "    score+=5\n",
    "print(f'the students final score is {score}')"
   ]
  },
  {
   "cell_type": "raw",
   "id": "6b3b341a-47d0-410e-ae61-ca41c7d0e535",
   "metadata": {},
   "source": [
    "24. Attendance Eligibility\n",
    "If a student&#39;s attendance is 75% or more, they are eligible to take the exam. Otherwise,they are not."
   ]
  },
  {
   "cell_type": "code",
   "execution_count": 25,
   "id": "01d0dd04-1f7a-48ad-be85-e6ddcecd5980",
   "metadata": {},
   "outputs": [
    {
     "name": "stdin",
     "output_type": "stream",
     "text": [
      "enter your attendence 90\n"
     ]
    },
    {
     "name": "stdout",
     "output_type": "stream",
     "text": [
      "you are eligible\n"
     ]
    }
   ],
   "source": [
    "attendence=int(input(\"enter your attendence\"))\n",
    "if attendence>=75:\n",
    "    print('you are eligible')\n",
    "else:\n",
    "    print('you are not eligible')"
   ]
  },
  {
   "cell_type": "raw",
   "id": "e7b4e733-b6c5-48b5-bf90-3f6dd943ffc1",
   "metadata": {},
   "source": [
    "Scholarship Eligibility\n",
    "If a student&#39;s grade is &quot;A&quot; and their annual family income is below $30,000, they areeligible for a scholarship. Otherwise, they are not."
   ]
  },
  {
   "cell_type": "code",
   "execution_count": 29,
   "id": "ebdd3491-8cf2-436d-8d36-a20d73f970db",
   "metadata": {},
   "outputs": [
    {
     "name": "stdin",
     "output_type": "stream",
     "text": [
      "enter your income 40000\n",
      "enter your grade A\n"
     ]
    },
    {
     "name": "stdout",
     "output_type": "stream",
     "text": [
      "you are not eligible\n"
     ]
    }
   ],
   "source": [
    "income=int(input('enter your income'))\n",
    "grade=input('enter your grade')\n",
    "if income<=30000 and grade==\"A\":\n",
    "    print('you are eligible for scholarship')\n",
    "else:\n",
    "    print('you are not eligible')\n",
    "    "
   ]
  },
  {
   "cell_type": "code",
   "execution_count": null,
   "id": "0b85f4d2-6493-4a77-8fc0-f8c8a36af0e9",
   "metadata": {},
   "outputs": [],
   "source": []
  }
 ],
 "metadata": {
  "kernelspec": {
   "display_name": "Python 3 (ipykernel)",
   "language": "python",
   "name": "python3"
  },
  "language_info": {
   "codemirror_mode": {
    "name": "ipython",
    "version": 3
   },
   "file_extension": ".py",
   "mimetype": "text/x-python",
   "name": "python",
   "nbconvert_exporter": "python",
   "pygments_lexer": "ipython3",
   "version": "3.12.7"
  }
 },
 "nbformat": 4,
 "nbformat_minor": 5
}

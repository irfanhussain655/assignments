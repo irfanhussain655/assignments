{
 "cells": [
  {
   "cell_type": "markdown",
   "id": "1c929968-8ee9-4ffc-aea2-4eb195472c26",
   "metadata": {},
   "source": [
    "# 1) area of a traiangle"
   ]
  },
  {
   "cell_type": "code",
   "execution_count": null,
   "id": "eb863767-4d55-4be9-8191-dfdd4b5beacf",
   "metadata": {},
   "outputs": [],
   "source": [
    "length=int(input('enter the length'))\n",
    "width=int(input('enter the width'))\n",
    "area=length*width\n",
    "print(f'the area of a triangle is {area}')"
   ]
  },
  {
   "cell_type": "markdown",
   "id": "a15e8c1f-13e4-41c1-8f59-94d64c68cc03",
   "metadata": {},
   "source": [
    "# 2)circumference of a Circle"
   ]
  },
  {
   "cell_type": "code",
   "execution_count": null,
   "id": "1211754d-4dbe-424a-85ba-39220b4a1217",
   "metadata": {},
   "outputs": [],
   "source": [
    "radius=int(input('enter tne radius'))\n",
    "pi=3.14\n",
    "circum=2*pi*radius\n",
    "print(f'circum of the circle is {circum}')"
   ]
  },
  {
   "cell_type": "markdown",
   "id": "08c93da4-387f-4f7c-9ab3-f8475b6260df",
   "metadata": {},
   "source": [
    "# 3) simple interest"
   ]
  },
  {
   "cell_type": "code",
   "execution_count": null,
   "id": "4260fbfe-5260-4629-b654-34b748058448",
   "metadata": {},
   "outputs": [],
   "source": [
    "principal=int(input('enter the principal'))\n",
    "rate=int(input('enter the rate'))\n",
    "time=int(input('enter the time'))\n",
    "simple_interest=principal*rate*time\n",
    "print(f'the simple interest is {simple_interest}')"
   ]
  },
  {
   "cell_type": "markdown",
   "id": "7e2a55b5-8c0c-4f3a-a88d-6647f0ff7e5d",
   "metadata": {},
   "source": [
    "# 4)speed of an object"
   ]
  },
  {
   "cell_type": "code",
   "execution_count": null,
   "id": "9a152905-f91a-4997-8fe8-957a1b4d6100",
   "metadata": {},
   "outputs": [],
   "source": [
    "distance=int(input('enter the distance'))\n",
    "time=int(input('enter the time'))\n",
    "speed=distance/time\n",
    "print(f'the speed of an object is {speed}')"
   ]
  },
  {
   "cell_type": "markdown",
   "id": "a5588a6b-97c8-4436-9055-a8d1b2e4f8a0",
   "metadata": {},
   "source": [
    "# 5)BMI calculator"
   ]
  },
  {
   "cell_type": "code",
   "execution_count": null,
   "id": "15bb0393-0492-4366-b472-3d29f42d0577",
   "metadata": {},
   "outputs": [],
   "source": [
    "weight=int(input('enter the weight'))\n",
    "height=int(input('enter the height'))\n",
    "BMI=weight/(height)**2\n",
    "print(f'BMI is {BMI}')"
   ]
  },
  {
   "cell_type": "markdown",
   "id": "891e0769-32a5-420d-8bdb-6d7d96956576",
   "metadata": {},
   "source": [
    "# 6) force using Newton's second law"
   ]
  },
  {
   "cell_type": "code",
   "execution_count": null,
   "id": "753f03a9-46ae-4f36-856b-498e781c91d1",
   "metadata": {},
   "outputs": [],
   "source": [
    "mass=int(input('enter the mass'))\n",
    "acceleration=int(input('enter the acceleration'))\n",
    "force=mass*acceleration\n",
    "print(f'force is {force}')"
   ]
  },
  {
   "cell_type": "markdown",
   "id": "ce90ffe6-6f9a-4b33-a998-17eaaed74b9c",
   "metadata": {},
   "source": [
    "# 7)compound interest"
   ]
  },
  {
   "cell_type": "code",
   "execution_count": null,
   "id": "de93049c-70b7-4a8d-accb-7f80c3156a28",
   "metadata": {},
   "outputs": [],
   "source": [
    "P=int(input('enter the P'))\n",
    "R=int(input('enter the R'))\n",
    "N=int(input('enter the N'))\n",
    "T=int(input('enter the T'))\n",
    "A=P*(1+R/N)**N-T\n",
    "print(f'the compound interest is {A}')"
   ]
  },
  {
   "cell_type": "markdown",
   "id": "eeaee85f-c83c-4faf-aa3f-fb4cec733c11",
   "metadata": {},
   "source": [
    "# 8) perimeter of atriangle"
   ]
  },
  {
   "cell_type": "code",
   "execution_count": null,
   "id": "7b42fd23-12f2-4f98-8974-c630e3c1591d",
   "metadata": {},
   "outputs": [],
   "source": [
    "a=int(input('enter the a'))\n",
    "b=int(input('enter the b'))\n",
    "c=int(input('enter the c'))\n",
    "perimeter=a+b+c\n",
    "print(f'perimeter is {perimeter}')"
   ]
  },
  {
   "cell_type": "markdown",
   "id": "bb39eddc-b39d-4550-8c77-0e1246919747",
   "metadata": {},
   "source": [
    "# 9) volume of a sphere"
   ]
  },
  {
   "cell_type": "code",
   "execution_count": null,
   "id": "a78b9177-cad1-4fd8-bb3d-add30db75aea",
   "metadata": {},
   "outputs": [],
   "source": [
    "r=int(input('enter the r'))\n",
    "pi=3.14\n",
    "volume=4/3*pi*r**3\n",
    "print(f'volume of sphere is {volume}')"
   ]
  },
  {
   "cell_type": "markdown",
   "id": "b8327f3f-6361-4ac8-8f64-2a1441ebecd4",
   "metadata": {},
   "source": [
    "# 10) kimetic energy"
   ]
  },
  {
   "cell_type": "code",
   "execution_count": null,
   "id": "864d67c8-0113-42c0-beae-b4a037c58452",
   "metadata": {},
   "outputs": [],
   "source": [
    "m=int(input('enter the m'))\n",
    "v=int(input('enter the v'))\n",
    "KE=1/2*m*v**2\n",
    "print(f'kinetic eneergy is{KE}')"
   ]
  },
  {
   "cell_type": "markdown",
   "id": "6db3aa4c-d2bb-4822-bfcc-d77c8d806dad",
   "metadata": {},
   "source": [
    "# 11)quadratic equation of roots"
   ]
  },
  {
   "cell_type": "code",
   "execution_count": null,
   "id": "981992a4-28cd-44b2-876f-fbbfdc581194",
   "metadata": {},
   "outputs": [],
   "source": [
    "\n",
    "a=int(input('enter the a'))\n",
    "b=int(input('enter the b'))\n",
    "c=int(input('enter the c'))\n",
    "root1=(-b+(b**2-4*a*c)**(0.5))//2*a\n",
    "root2=(-b-(b**2-4*a*c)**(0.5))//2*a\n",
    "print(f'the two roots are {root1} and {root2}')"
   ]
  },
  {
   "cell_type": "markdown",
   "id": "7f2709de-8261-4369-9d6a-e4d6f3b8e097",
   "metadata": {},
   "source": [
    "# 12)temperature conversion"
   ]
  },
  {
   "cell_type": "code",
   "execution_count": null,
   "id": "7901ba7c-91c8-4edb-9e2d-ea00186f6a98",
   "metadata": {},
   "outputs": [],
   "source": [
    "c=int(input('enter the c'))\n",
    "f=9/5*c+32\n",
    "print(f'the temp is {f}')"
   ]
  },
  {
   "cell_type": "markdown",
   "id": "2a01e77c-a19b-499b-aace-d872b0de8099",
   "metadata": {},
   "source": [
    "# 13) gravitational force"
   ]
  },
  {
   "cell_type": "code",
   "execution_count": null,
   "id": "822c58a2-3b6d-4c42-b84c-2359f7c218ee",
   "metadata": {},
   "outputs": [],
   "source": [
    "m1=int(input('enter the m1'))\n",
    "m2=int(input('enter the m2'))\n",
    "r=int(input('enter the r'))\n",
    "g=567\n",
    "f=g*m1*m2/r**2\n",
    "print(f'the gravitational force will be {f}')\n"
   ]
  },
  {
   "cell_type": "markdown",
   "id": "06c05148-fd77-49ab-8f42-f0bc3c20fba7",
   "metadata": {},
   "source": [
    "# 14)volume of cyclinder"
   ]
  },
  {
   "cell_type": "code",
   "execution_count": null,
   "id": "a46a9e74-bba2-49e2-94da-26de5ae55bfe",
   "metadata": {},
   "outputs": [],
   "source": [
    "r=int(input('enter the r'))\n",
    "h=int(input('enter the h'))\n",
    "pi=3.14\n",
    "volume=pi*r**2*h\n",
    "print(f'volume of cyclinder is {volume}')"
   ]
  },
  {
   "cell_type": "markdown",
   "id": "de539910-b5ec-4fde-957d-d9dabef72850",
   "metadata": {},
   "source": [
    "# 15) pressure"
   ]
  },
  {
   "cell_type": "code",
   "execution_count": null,
   "id": "436fc741-7eeb-4a68-b6ae-5476b7cf24ae",
   "metadata": {},
   "outputs": [],
   "source": [
    "f=int(input('enter the f'))\n",
    "a=int(input('enter the a'))\n",
    "p=f/a\n",
    "print(f'pressure will be {p}')"
   ]
  },
  {
   "cell_type": "markdown",
   "id": "51cf2dba-72a0-4f04-af5c-f4fecc8a136b",
   "metadata": {},
   "source": [
    "# 16)electric power"
   ]
  },
  {
   "cell_type": "code",
   "execution_count": null,
   "id": "9d8a93e7-4d96-4722-94ab-20e0e049c056",
   "metadata": {},
   "outputs": [],
   "source": [
    "v=int(input('enter the v'))\n",
    "i=int(input('enter the i'))\n",
    "p=v/i\n",
    "print(f'elecctric power will be {p}')"
   ]
  },
  {
   "cell_type": "markdown",
   "id": "3da95a7a-24de-4ccd-ba51-c2438d1d050b",
   "metadata": {},
   "source": [
    "# 17)perimeter of circle"
   ]
  },
  {
   "cell_type": "code",
   "execution_count": null,
   "id": "df80daad-0108-405a-9d0d-139b7a5864be",
   "metadata": {},
   "outputs": [],
   "source": [
    "r=int(input('enter the r'))\n",
    "pi=3.14\n",
    "p=2*pi*r\n",
    "print(f'perimeter of circle is {p}')"
   ]
  },
  {
   "cell_type": "markdown",
   "id": "81dc2f01-730e-40dd-941f-e80d454d5b1c",
   "metadata": {},
   "source": [
    "# 18)future value of savings"
   ]
  },
  {
   "cell_type": "code",
   "execution_count": null,
   "id": "d70ef8d4-162b-4be2-8f88-9788387b7388",
   "metadata": {},
   "outputs": [],
   "source": [
    "p=int(input('enter the p'))\n",
    "v=int(input('enter the v'))\n",
    "r=int(input('enter the r'))\n",
    "t=int(input('enter the t'))\n",
    "fv=p*v*(1+r)**t\n",
    "print(f'future value of saving is {fv}')"
   ]
  },
  {
   "cell_type": "markdown",
   "id": "706f1cb0-3f48-4d0e-babe-b52137695597",
   "metadata": {},
   "source": [
    "# 19) workdone by force"
   ]
  },
  {
   "cell_type": "code",
   "execution_count": 23,
   "id": "32dbb00a-c7b7-471c-9d17-344bba4c324d",
   "metadata": {},
   "outputs": [
    {
     "name": "stdin",
     "output_type": "stream",
     "text": [
      "enter the f 5\n",
      "enter the d 5\n",
      "enter the angle  5\n"
     ]
    },
    {
     "ename": "AttributeError",
     "evalue": "module 'math' has no attribute 'cosine'",
     "output_type": "error",
     "traceback": [
      "\u001b[1;31m---------------------------------------------------------------------------\u001b[0m",
      "\u001b[1;31mAttributeError\u001b[0m                            Traceback (most recent call last)",
      "Cell \u001b[1;32mIn[23], line 5\u001b[0m\n\u001b[0;32m      3\u001b[0m d\u001b[38;5;241m=\u001b[39m\u001b[38;5;28mint\u001b[39m(\u001b[38;5;28minput\u001b[39m(\u001b[38;5;124m'\u001b[39m\u001b[38;5;124menter the d\u001b[39m\u001b[38;5;124m'\u001b[39m))\n\u001b[0;32m      4\u001b[0m angle\u001b[38;5;241m=\u001b[39m\u001b[38;5;28mint\u001b[39m(\u001b[38;5;28minput\u001b[39m(\u001b[38;5;124m'\u001b[39m\u001b[38;5;124menter the angle \u001b[39m\u001b[38;5;124m'\u001b[39m))\n\u001b[1;32m----> 5\u001b[0m w\u001b[38;5;241m=\u001b[39mf\u001b[38;5;241m*\u001b[39md\u001b[38;5;241m*\u001b[39m(math\u001b[38;5;241m.\u001b[39mcosine(angle))\n\u001b[0;32m      6\u001b[0m \u001b[38;5;28mprint\u001b[39m(\u001b[38;5;124mf\u001b[39m\u001b[38;5;124m'\u001b[39m\u001b[38;5;124mworkdone is \u001b[39m\u001b[38;5;132;01m{\u001b[39;00mw\u001b[38;5;132;01m}\u001b[39;00m\u001b[38;5;124m'\u001b[39m)\n",
      "\u001b[1;31mAttributeError\u001b[0m: module 'math' has no attribute 'cosine'"
     ]
    }
   ],
   "source": [
    "import math\n",
    "f=int(input('enter the f'))\n",
    "d=int(input('enter the d'))\n",
    "angle=int(input('enter the angle '))\n",
    "w=f*d*(math.cosine(angle))\n",
    "print(f'workdone is {w}')"
   ]
  },
  {
   "cell_type": "code",
   "execution_count": null,
   "id": "086ac045-aea1-4f87-8048-f62653fb8526",
   "metadata": {},
   "outputs": [],
   "source": []
  },
  {
   "cell_type": "markdown",
   "id": "fdd56a7f-4c4f-4bee-86d7-4b0f4f2f342f",
   "metadata": {},
   "source": [
    "# 20) heat transfer"
   ]
  },
  {
   "cell_type": "code",
   "execution_count": null,
   "id": "20ae3345-dbee-46c0-936f-b5e0d9aa7711",
   "metadata": {},
   "outputs": [],
   "source": [
    "m=int(input('enter the m'))\n",
    "c=int(input('enter the c'))\n",
    "a=int(input('enter the a'))\n",
    "d=m*a*c\n",
    "print(f'the heat transfer is {d}')"
   ]
  },
  {
   "cell_type": "code",
   "execution_count": null,
   "id": "00895d47-2c96-45c5-892f-dd7b47ece4a7",
   "metadata": {},
   "outputs": [],
   "source": [
    "'hello'.split()"
   ]
  },
  {
   "cell_type": "code",
   "execution_count": null,
   "id": "86e1524f-f5e8-4cbe-b466-517a53283cd4",
   "metadata": {},
   "outputs": [],
   "source": [
    "'gello'.split(',')\n",
    "l=[a,s,d,f]"
   ]
  },
  {
   "cell_type": "code",
   "execution_count": null,
   "id": "02dea7e8-2b07-4e56-ac7e-cafaf42d512a",
   "metadata": {},
   "outputs": [],
   "source": [
    "\",\".join(l)"
   ]
  },
  {
   "cell_type": "code",
   "execution_count": null,
   "id": "b85a540c-a8dd-4282-a513-67d2b537b419",
   "metadata": {},
   "outputs": [],
   "source": [
    "\"*\".join['1','2','3','4','5','6']"
   ]
  },
  {
   "cell_type": "code",
   "execution_count": null,
   "id": "283dad59-a5de-4e2b-ba3e-4643a306d9d3",
   "metadata": {},
   "outputs": [],
   "source": []
  }
 ],
 "metadata": {
  "kernelspec": {
   "display_name": "Python 3 (ipykernel)",
   "language": "python",
   "name": "python3"
  },
  "language_info": {
   "codemirror_mode": {
    "name": "ipython",
    "version": 3
   },
   "file_extension": ".py",
   "mimetype": "text/x-python",
   "name": "python",
   "nbconvert_exporter": "python",
   "pygments_lexer": "ipython3",
   "version": "3.12.7"
  }
 },
 "nbformat": 4,
 "nbformat_minor": 5
}
